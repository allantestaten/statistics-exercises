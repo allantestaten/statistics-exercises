{
 "cells": [
  {
   "cell_type": "markdown",
   "id": "8aea1f7a",
   "metadata": {},
   "source": [
    "# overview exercises"
   ]
  },
  {
   "cell_type": "code",
   "execution_count": 1,
   "id": "0484cf34",
   "metadata": {},
   "outputs": [
    {
     "ename": "SyntaxError",
     "evalue": "invalid syntax (470903239.py, line 1)",
     "output_type": "error",
     "traceback": [
      "\u001b[0;36m  Input \u001b[0;32mIn [1]\u001b[0;36m\u001b[0m\n\u001b[0;31m    Hypothesis statment should be written based on potential outcome of variable\u001b[0m\n\u001b[0m               ^\u001b[0m\n\u001b[0;31mSyntaxError\u001b[0m\u001b[0;31m:\u001b[0m invalid syntax\n"
     ]
    }
   ],
   "source": [
    "Hypothesis statment should be written based on potential outcome of variable \n",
    "alternative statement is what you are actually testing, should show that variable is reason for change in outcome\n",
    "\n",
    "Has the network latency gone up since we switched internet service providers?\n",
    "T-test, comparing means \n",
    "a is before switch (boolean)\n",
    "b is after switch\n",
    "\n",
    "mean continuous variable \n",
    "\n",
    "H_{0}:mean_a<= mean_b\n",
    "H_{a}:mean_a > mean_b\n",
    "\n",
    "True positive:reject mean_a<= mean_b when h_{0} is false/ Latency increased and we said it did\n",
    "True negative:fail to reject h_{0} when h{0} is true / latency didn't go up and we said it didn't go up\n",
    "\n",
    "Type I error: latency didn't go up when it has  \n",
    "Type II error: latency did go up when we said it didn't "
   ]
  },
  {
   "cell_type": "code",
   "execution_count": null,
   "id": "373d6e3c",
   "metadata": {},
   "outputs": [],
   "source": [
    "Is the website redesign any good?\n",
    "mean - continuous \n",
    "before/after design - boolean\n",
    "\n",
    "H_{0}: mean_before_design >= mean_after_design \n",
    "H_{a}: mean_before_design < mean_after_design\n",
    "\n",
    "accept alternative....and alternative is true\n",
    "True positive:more time spent on new website than old website and said that\n",
    "\n",
    "accept null and null is true\n",
    "True negative:spend less or equal time on site now and said that\n",
    "\n",
    "\n",
    "Type I error: said site is better but it is not\n",
    "\n",
    "\n",
    "Type II error: said site is not better but it is better  "
   ]
  },
  {
   "cell_type": "code",
   "execution_count": null,
   "id": "9ffaf5bb",
   "metadata": {},
   "outputs": [],
   "source": [
    "Is our television ad driving more sales?\n",
    "before/after ads \n",
    "increase of sales - outcome variable\n",
    "\n",
    "H_{0}:meansales_1 >= meansales_2\n",
    "H_{a}:meansales_1 < meansales_2\n",
    "\n",
    "accept alternative....and alternative is true\n",
    "True positive:post add sales are higher than pre ad sales and that is what we said\n",
    "\n",
    "accept null and null is true\n",
    "True negative:sales did not increase afte ad and we said that \n",
    "\n",
    "\n",
    "Type I error: post ad sale are not higher but we said they are\n",
    "\n",
    "\n",
    "Type II error: post ad sale are higher but we said they were not"
   ]
  },
  {
   "cell_type": "markdown",
   "id": "33cbc3e4",
   "metadata": {},
   "source": [
    "# T-Test exercises"
   ]
  },
  {
   "cell_type": "raw",
   "id": "3cf89fb0",
   "metadata": {},
   "source": [
    "1. Answer with the type of test you would use (assume normal distribution):\n",
    "\n",
    "Is there a difference in grades of students on the second floor compared to grades of all students?\n",
    "\n",
    "- one sample t test and two tail because asking difference\n",
    "null- second floor students_mean = grades of all students_mean\n",
    "alternative - second floor students_mean != grades of all students mean\n",
    " \n",
    "\n",
    "Are adults who drink milk taller than adults who dont drink milk?\n",
    "\n",
    "- two sample t test / one tail \n",
    "null - adults who drink milk height_mean <= Adults who don't drink milk\n",
    "alternative - adults who drink milk height_mean > adults who don't drink\n",
    "\n",
    "Is the the price of gas higher in texas or in new mexico?\n",
    "\n",
    "- two sample t test one tail only care about one direction\n",
    "null - mean_gas_nm >= mean_gas_tx\n",
    "alternative- mean_gas_NM < mean_gas_tx\n",
    "\n",
    "Are there differences in stress levels between students who take data science vs students who take web development vs students who take cloud academy?\n",
    "\n",
    "Anova comparing 3 groups \n"
   ]
  },
  {
   "cell_type": "raw",
   "id": "fba5200c",
   "metadata": {},
   "source": [
    "2. Ace Realty wants to determine whether the average time it takes to sell homes is different for its two offices. A sample of 40 sales from office #1 revealed a mean of 90 days and a standard deviation of 15 days. A sample of 50 sales from office #2 revealed a mean of 100 days and a standard deviation of 20 days. Use a .05 level of significance."
   ]
  },
  {
   "cell_type": "raw",
   "id": "5af9658b",
   "metadata": {},
   "source": [
    "#office 1 : n = 40, mean = 90 std dev = 15 \n",
    "#office 2: n = 50, mean 100, std dev = 20 \n",
    "\n",
    "null - the time it takes to sell properties in office 1 = the time it takes to sell properties in office 2\n",
    "\n",
    "alternative - the time it takes to sell properties in office 1 != the time it takes to sell properties in office 2"
   ]
  },
  {
   "cell_type": "code",
   "execution_count": 30,
   "id": "bfd1c49c",
   "metadata": {},
   "outputs": [],
   "source": [
    "import numpy as np\n",
    "import seaborn as sns\n",
    "import scipy.stats as stats\n",
    "import pandas as pd\n",
    "import matplotlib.pyplot as plt\n",
    "import scipy.stats as stats\n",
    "\n",
    "#Measuring average time it takes to sell home in days. \n",
    "#Anova test \n",
    "\n",
    "\n",
    "α = .05\n"
   ]
  },
  {
   "cell_type": "code",
   "execution_count": 3,
   "id": "a117b627",
   "metadata": {
    "scrolled": true
   },
   "outputs": [],
   "source": [
    "\n",
    "office_1 = stats.norm(90,15).rvs(40)\n",
    "office_2 = stats.norm(100, 20).rvs(50)\n",
    "#use rvs to generate random results of samples \n",
    "#not given specific info for samples "
   ]
  },
  {
   "cell_type": "code",
   "execution_count": 4,
   "id": "22e03b0b",
   "metadata": {},
   "outputs": [
    {
     "name": "stdout",
     "output_type": "stream",
     "text": [
      "230.0386792066119\n",
      "279.70339279737857\n"
     ]
    }
   ],
   "source": [
    "print(office_1.var())\n",
    "print(office_2.var())"
   ]
  },
  {
   "cell_type": "code",
   "execution_count": 5,
   "id": "89477be5",
   "metadata": {},
   "outputs": [],
   "source": [
    "stat,p_val = stats.levene(office_1, office_2)\n",
    "\n",
    "if p_val < .05:\n",
    "    print('we can reject H0 ==> inequal variance')\n",
    "    \n",
    "#conduct levene test to determine if variance equal or not"
   ]
  },
  {
   "cell_type": "code",
   "execution_count": 6,
   "id": "527a3e15",
   "metadata": {},
   "outputs": [
    {
     "data": {
      "text/plain": [
       "0.7573523277708323"
      ]
     },
     "execution_count": 6,
     "metadata": {},
     "output_type": "execute_result"
    }
   ],
   "source": [
    "p_val"
   ]
  },
  {
   "cell_type": "code",
   "execution_count": 7,
   "id": "5a75507d",
   "metadata": {},
   "outputs": [
    {
     "name": "stdout",
     "output_type": "stream",
     "text": [
      "t-stat): -3.011873106506219\n",
      "p-value: 0.0033891628476190976\n"
     ]
    }
   ],
   "source": [
    "\n",
    "t_stat, p_val = stats.ttest_ind(office_1, office_2, equal_var=True)\n",
    "print(f't-stat): {t_stat}')\n",
    "print(f'p-value: {p_val}')"
   ]
  },
  {
   "cell_type": "code",
   "execution_count": 8,
   "id": "a89a5e92",
   "metadata": {},
   "outputs": [
    {
     "name": "stdout",
     "output_type": "stream",
     "text": [
      "\n",
      "Because the p-value (0.0033891628476190976) is less than alpha value (0.05), we reject the null hypothesis\n"
     ]
    }
   ],
   "source": [
    "#copy past print statement \n",
    "\n",
    "print(f'''\n",
    "Because the p-value ({p_val}) is less than alpha value ({α}), we reject the null hypothesis''')"
   ]
  },
  {
   "cell_type": "raw",
   "id": "e2718333",
   "metadata": {},
   "source": [
    "3.a Is there a difference in fuel-efficiency in cars from 2008 vs 1999?"
   ]
  },
  {
   "cell_type": "code",
   "execution_count": 9,
   "id": "ea13ae33",
   "metadata": {},
   "outputs": [
    {
     "data": {
      "text/html": [
       "<div>\n",
       "<style scoped>\n",
       "    .dataframe tbody tr th:only-of-type {\n",
       "        vertical-align: middle;\n",
       "    }\n",
       "\n",
       "    .dataframe tbody tr th {\n",
       "        vertical-align: top;\n",
       "    }\n",
       "\n",
       "    .dataframe thead th {\n",
       "        text-align: right;\n",
       "    }\n",
       "</style>\n",
       "<table border=\"1\" class=\"dataframe\">\n",
       "  <thead>\n",
       "    <tr style=\"text-align: right;\">\n",
       "      <th></th>\n",
       "      <th>manufacturer</th>\n",
       "      <th>model</th>\n",
       "      <th>displ</th>\n",
       "      <th>year</th>\n",
       "      <th>cyl</th>\n",
       "      <th>trans</th>\n",
       "      <th>drv</th>\n",
       "      <th>cty</th>\n",
       "      <th>hwy</th>\n",
       "      <th>fl</th>\n",
       "      <th>class</th>\n",
       "    </tr>\n",
       "  </thead>\n",
       "  <tbody>\n",
       "    <tr>\n",
       "      <th>1</th>\n",
       "      <td>audi</td>\n",
       "      <td>a4</td>\n",
       "      <td>1.8</td>\n",
       "      <td>1999</td>\n",
       "      <td>4</td>\n",
       "      <td>auto(l5)</td>\n",
       "      <td>f</td>\n",
       "      <td>18</td>\n",
       "      <td>29</td>\n",
       "      <td>p</td>\n",
       "      <td>compact</td>\n",
       "    </tr>\n",
       "    <tr>\n",
       "      <th>2</th>\n",
       "      <td>audi</td>\n",
       "      <td>a4</td>\n",
       "      <td>1.8</td>\n",
       "      <td>1999</td>\n",
       "      <td>4</td>\n",
       "      <td>manual(m5)</td>\n",
       "      <td>f</td>\n",
       "      <td>21</td>\n",
       "      <td>29</td>\n",
       "      <td>p</td>\n",
       "      <td>compact</td>\n",
       "    </tr>\n",
       "    <tr>\n",
       "      <th>3</th>\n",
       "      <td>audi</td>\n",
       "      <td>a4</td>\n",
       "      <td>2.0</td>\n",
       "      <td>2008</td>\n",
       "      <td>4</td>\n",
       "      <td>manual(m6)</td>\n",
       "      <td>f</td>\n",
       "      <td>20</td>\n",
       "      <td>31</td>\n",
       "      <td>p</td>\n",
       "      <td>compact</td>\n",
       "    </tr>\n",
       "    <tr>\n",
       "      <th>4</th>\n",
       "      <td>audi</td>\n",
       "      <td>a4</td>\n",
       "      <td>2.0</td>\n",
       "      <td>2008</td>\n",
       "      <td>4</td>\n",
       "      <td>auto(av)</td>\n",
       "      <td>f</td>\n",
       "      <td>21</td>\n",
       "      <td>30</td>\n",
       "      <td>p</td>\n",
       "      <td>compact</td>\n",
       "    </tr>\n",
       "    <tr>\n",
       "      <th>5</th>\n",
       "      <td>audi</td>\n",
       "      <td>a4</td>\n",
       "      <td>2.8</td>\n",
       "      <td>1999</td>\n",
       "      <td>6</td>\n",
       "      <td>auto(l5)</td>\n",
       "      <td>f</td>\n",
       "      <td>16</td>\n",
       "      <td>26</td>\n",
       "      <td>p</td>\n",
       "      <td>compact</td>\n",
       "    </tr>\n",
       "  </tbody>\n",
       "</table>\n",
       "</div>"
      ],
      "text/plain": [
       "  manufacturer model  displ  year  cyl       trans drv  cty  hwy fl    class\n",
       "1         audi    a4    1.8  1999    4    auto(l5)   f   18   29  p  compact\n",
       "2         audi    a4    1.8  1999    4  manual(m5)   f   21   29  p  compact\n",
       "3         audi    a4    2.0  2008    4  manual(m6)   f   20   31  p  compact\n",
       "4         audi    a4    2.0  2008    4    auto(av)   f   21   30  p  compact\n",
       "5         audi    a4    2.8  1999    6    auto(l5)   f   16   26  p  compact"
      ]
     },
     "execution_count": 9,
     "metadata": {},
     "output_type": "execute_result"
    }
   ],
   "source": [
    "from pydataset import data\n",
    "\n",
    "mpg = data('mpg')\n",
    "\n",
    "mpg.head()"
   ]
  },
  {
   "cell_type": "raw",
   "id": "38be2583",
   "metadata": {},
   "source": [
    "calculate average fuel economy assuming 50% and 50% city driving \n",
    "should use harmonic mean because using rates: PUT EQUATION HERE"
   ]
  },
  {
   "cell_type": "code",
   "execution_count": 10,
   "id": "de50e09c",
   "metadata": {},
   "outputs": [],
   "source": [
    "mpg['avg_fe'] = stats.hmean(mpg[['cty', 'hwy']], axis =1)\n",
    "\n",
    "# creates avg fuel efficiency column with harmonic mean across all cars"
   ]
  },
  {
   "cell_type": "code",
   "execution_count": 11,
   "id": "bcffb744",
   "metadata": {},
   "outputs": [],
   "source": [
    "fe_2008 = mpg[mpg.year == 2008].avg_fe \n",
    "fe_1999 = mpg[mpg.year == 1999].avg_fe \n",
    "\n",
    "\n",
    "#now filter by year column with avg fuel efficiency"
   ]
  },
  {
   "cell_type": "code",
   "execution_count": 12,
   "id": "103ad986",
   "metadata": {},
   "outputs": [
    {
     "data": {
      "text/plain": [
       "<AxesSubplot:>"
      ]
     },
     "execution_count": 12,
     "metadata": {},
     "output_type": "execute_result"
    },
    {
     "data": {
      "image/png": "[encoded data removed]",
      "text/plain": [
       "<Figure size 648x432 with 1 Axes>"
      ]
     },
     "metadata": {
      "needs_background": "light"
     },
     "output_type": "display_data"
    }
   ],
   "source": [
    "#creates histograms of both \n",
    "plt.figure(figsize=(9,6))\n",
    "fe_2008.hist()"
   ]
  },
  {
   "cell_type": "code",
   "execution_count": 13,
   "id": "4f9e27be",
   "metadata": {},
   "outputs": [
    {
     "data": {
      "text/plain": [
       "(117, 117)"
      ]
     },
     "execution_count": 13,
     "metadata": {},
     "output_type": "execute_result"
    }
   ],
   "source": [
    "fe_2008.count(), fe_1999.count()\n",
    "\n",
    "#normality assumption "
   ]
  },
  {
   "cell_type": "code",
   "execution_count": 14,
   "id": "8280d725",
   "metadata": {},
   "outputs": [
    {
     "data": {
      "text/plain": [
       "(22.550836772260343, 25.850396545865912)"
      ]
     },
     "execution_count": 14,
     "metadata": {},
     "output_type": "execute_result"
    }
   ],
   "source": [
    "#check variance \n",
    "fe_2008.var(), fe_1999.var()\n",
    "\n",
    "#levene test next"
   ]
  },
  {
   "cell_type": "code",
   "execution_count": 15,
   "id": "6642cf18",
   "metadata": {},
   "outputs": [
    {
     "data": {
      "text/plain": [
       "LeveneResult(statistic=0.031071867429515194, pvalue=0.8602339200830025)"
      ]
     },
     "execution_count": 15,
     "metadata": {},
     "output_type": "execute_result"
    }
   ],
   "source": [
    "#levene test \n",
    "stats.levene(fe_2008, fe_1999)"
   ]
  },
  {
   "cell_type": "code",
   "execution_count": 16,
   "id": "9f16652d",
   "metadata": {},
   "outputs": [
    {
     "data": {
      "text/plain": [
       "(-0.3011962975077886, 0.7635345888327115)"
      ]
     },
     "execution_count": 16,
     "metadata": {},
     "output_type": "execute_result"
    }
   ],
   "source": [
    "t, p = stats.ttest_ind(fe_2008, fe_1999)\n",
    "t,p"
   ]
  },
  {
   "cell_type": "code",
   "execution_count": 17,
   "id": "c75a50cd",
   "metadata": {},
   "outputs": [
    {
     "name": "stdout",
     "output_type": "stream",
     "text": [
      "\n",
      "Because p(0.764)) > alpha (.05), we fail to reject th null\\ hypothesis that there is no difference in fuel-efficiency in cars\f",
      "rom 2008 and 1999.\n"
     ]
    }
   ],
   "source": [
    "print(f'''\n",
    "Because p({p:.3f})) > alpha (.05), we fail to reject th null\\ hypothesis that there is no difference in fuel-efficiency in cars\\from 2008 and 1999.''')\n",
    "\n",
    "#.3f limits to thousandsths place for rounding"
   ]
  },
  {
   "cell_type": "code",
   "execution_count": 18,
   "id": "83ca8112",
   "metadata": {},
   "outputs": [
    {
     "data": {
      "text/plain": [
       "(19.488662986569054, 19.68238764869729)"
      ]
     },
     "execution_count": 18,
     "metadata": {},
     "output_type": "execute_result"
    }
   ],
   "source": [
    "fe_2008.mean(), fe_1999.mean()"
   ]
  },
  {
   "cell_type": "code",
   "execution_count": 19,
   "id": "105ba65a",
   "metadata": {},
   "outputs": [],
   "source": [
    "#create side by side histogram "
   ]
  },
  {
   "cell_type": "code",
   "execution_count": 20,
   "id": "890a6a23",
   "metadata": {},
   "outputs": [
    {
     "data": {
      "text/plain": [
       "<matplotlib.legend.Legend at 0x12511fe50>"
      ]
     },
     "execution_count": 20,
     "metadata": {},
     "output_type": "execute_result"
    },
    {
     "data": {
      "image/png": "[encoded data removed]",
      "text/plain": [
       "<Figure size 648x432 with 1 Axes>"
      ]
     },
     "metadata": {
      "needs_background": "light"
     },
     "output_type": "display_data"
    }
   ],
   "source": [
    "plt.figure(figsize=(9,6))\n",
    "plt.hist([fe_1999, fe_2008], label=[\"1999 cars\", \"2008 cars\"])\n",
    "plt.legend(loc=\"upper right\")"
   ]
  },
  {
   "cell_type": "raw",
   "id": "d46ba717",
   "metadata": {},
   "source": [
    "hypothesis - \n",
    "null - the mpg mean in 2008 = the mpg mean in 1999\n",
    "alternative - the mpg mean in 2008 != the mpg mean in 199"
   ]
  },
  {
   "cell_type": "markdown",
   "id": "11b4b3de",
   "metadata": {},
   "source": [
    "**C. Set Significance Level**"
   ]
  },
  {
   "cell_type": "code",
   "execution_count": 21,
   "id": "960e563f",
   "metadata": {},
   "outputs": [],
   "source": [
    "α = .05"
   ]
  },
  {
   "cell_type": "raw",
   "id": "dedb21db",
   "metadata": {},
   "source": [
    "p> alpha \n",
    "accept null hypothesis"
   ]
  },
  {
   "cell_type": "raw",
   "id": "b0354878",
   "metadata": {},
   "source": [
    "3.b Are compact cars more fuel-efficient than the average car?\n"
   ]
  },
  {
   "cell_type": "code",
   "execution_count": 22,
   "id": "48c33ad3",
   "metadata": {},
   "outputs": [],
   "source": [
    "#t value and p value \n",
    "#because one tail have to do p/2 and t > 0 if compact car goes into function first "
   ]
  },
  {
   "cell_type": "code",
   "execution_count": 23,
   "id": "12caafe4",
   "metadata": {},
   "outputs": [],
   "source": [
    "fe_compact = mpg[mpg['class'] == 'compact'].avg_fe\n",
    "μ = mpg.avg_fe.mean()"
   ]
  },
  {
   "cell_type": "code",
   "execution_count": 24,
   "id": "b2e6374b",
   "metadata": {},
   "outputs": [],
   "source": [
    "#mean fuel efficeincy of all cars \n",
    "m = mpg.avg_fe.mean()"
   ]
  },
  {
   "cell_type": "code",
   "execution_count": 25,
   "id": "a59299b7",
   "metadata": {},
   "outputs": [
    {
     "data": {
      "text/plain": [
       "47"
      ]
     },
     "execution_count": 25,
     "metadata": {},
     "output_type": "execute_result"
    }
   ],
   "source": [
    "fe_compact.count()\n",
    "\n",
    "#greater than 30 assume normality"
   ]
  },
  {
   "cell_type": "code",
   "execution_count": 26,
   "id": "92215828",
   "metadata": {},
   "outputs": [
    {
     "data": {
      "text/plain": [
       "<AxesSubplot:>"
      ]
     },
     "execution_count": 26,
     "metadata": {},
     "output_type": "execute_result"
    },
    {
     "data": {
      "image/png": "[encoded data removed]",
      "text/plain": [
       "<Figure size 648x432 with 1 Axes>"
      ]
     },
     "metadata": {
      "needs_background": "light"
     },
     "output_type": "display_data"
    }
   ],
   "source": [
    "# look at distribution of fuel economy of compact cars. It also shows > 30 observations\n",
    "# so we meet normality assunption for t-test\n",
    "\n",
    "plt.figure(figsize=(9,6))\n",
    "fe_compact.hist()"
   ]
  },
  {
   "cell_type": "code",
   "execution_count": 27,
   "id": "12a848b9",
   "metadata": {},
   "outputs": [
    {
     "ename": "NameError",
     "evalue": "name 'alpha' is not defined",
     "output_type": "error",
     "traceback": [
      "\u001b[0;31m---------------------------------------------------------------------------\u001b[0m",
      "\u001b[0;31mNameError\u001b[0m                                 Traceback (most recent call last)",
      "Input \u001b[0;32mIn [27]\u001b[0m, in \u001b[0;36m<cell line: 4>\u001b[0;34m()\u001b[0m\n\u001b[1;32m      1\u001b[0m \u001b[38;5;66;03m# calculate t and p values:\u001b[39;00m\n\u001b[1;32m      3\u001b[0m t, p \u001b[38;5;241m=\u001b[39m stats\u001b[38;5;241m.\u001b[39mttest_1samp(fe_compact, μ)\n\u001b[0;32m----> 4\u001b[0m t, p\u001b[38;5;241m/\u001b[39m\u001b[38;5;241m2\u001b[39m, \u001b[43malpha\u001b[49m\n",
      "\u001b[0;31mNameError\u001b[0m: name 'alpha' is not defined"
     ]
    }
   ],
   "source": [
    "# calculate t and p values:\n",
    "\n",
    "t, p = stats.ttest_1samp(fe_compact, μ)\n",
    "t, p/2, alpha\n",
    "#significantly less than alpha \n",
    "\n",
    "#there appears to be a relationship between compact cars and mpg "
   ]
  },
  {
   "cell_type": "code",
   "execution_count": null,
   "id": "4eff8fe6",
   "metadata": {
    "scrolled": true
   },
   "outputs": [],
   "source": [
    "print(f'''Because p/2 ({p/2:.11f}) < alpha (.05) and t > 0, we reject the null hypothesis.''')\n"
   ]
  },
  {
   "cell_type": "raw",
   "id": "cbac33e1",
   "metadata": {},
   "source": [
    "# 3.c Do manual cars get better gas mileage than automatic cars? "
   ]
  },
  {
   "cell_type": "code",
   "execution_count": null,
   "id": "ec0caab0",
   "metadata": {},
   "outputs": [],
   "source": [
    "mpg.trans.value_counts()\n",
    "\n",
    "#vehicle counts"
   ]
  },
  {
   "cell_type": "code",
   "execution_count": null,
   "id": "12211aa0",
   "metadata": {},
   "outputs": [],
   "source": [
    "mpg.trans.str.contains('auto')\n",
    "\n",
    "#find automatic cars \n"
   ]
  },
  {
   "cell_type": "code",
   "execution_count": null,
   "id": "8097fc0f",
   "metadata": {},
   "outputs": [],
   "source": [
    "fe_auto = mpg[mpg.trans.str.contains('auto')].avg_fe\n",
    "fe_man = mpg[mpg.trans.str.contains('manual')].avg_fe\n",
    "\n",
    "#only automatics "
   ]
  },
  {
   "cell_type": "code",
   "execution_count": null,
   "id": "45bc86ff",
   "metadata": {},
   "outputs": [],
   "source": [
    "#visual of fuel efficiency \n",
    "# look at the distribution. N >30\n",
    "\n",
    "plt.figure(figsize=(9,6))\n",
    "fe_auto.hist()"
   ]
  },
  {
   "cell_type": "code",
   "execution_count": null,
   "id": "96174231",
   "metadata": {},
   "outputs": [],
   "source": [
    "# look at the distribution. N >30\n",
    "\n",
    "plt.figure(figsize=(9,6))\n",
    "fe_man.hist()"
   ]
  },
  {
   "cell_type": "code",
   "execution_count": null,
   "id": "7874ae0d",
   "metadata": {},
   "outputs": [],
   "source": [
    "#normalcy with counts \n",
    "fe_auto.count(), fe_man.count()"
   ]
  },
  {
   "cell_type": "code",
   "execution_count": null,
   "id": "de565799",
   "metadata": {},
   "outputs": [],
   "source": [
    "#check variance\n",
    "\n",
    "fe_auto.var(), fe_man.var()"
   ]
  },
  {
   "cell_type": "code",
   "execution_count": null,
   "id": "8ce94a7c",
   "metadata": {},
   "outputs": [],
   "source": [
    "stats.levene(fe_auto, fe_man)"
   ]
  },
  {
   "cell_type": "code",
   "execution_count": null,
   "id": "b16c8d2f",
   "metadata": {},
   "outputs": [],
   "source": [
    "t, p = stats.ttest_ind(fe_man, fe_auto, equal_var = True)\n",
    "\n",
    "t, p/2\n",
    "\n",
    "#manual first because checking if manual > auto\n",
    "# t greater than 1, p < .05 reject null\n",
    "\n",
    "#there appears to be a significance\n",
    "#that manual cars get more gas mpg than automatic "
   ]
  },
  {
   "cell_type": "code",
   "execution_count": null,
   "id": "76c17046",
   "metadata": {},
   "outputs": [],
   "source": [
    "print(f'''\n",
    "Because p/2 ({p/2:.6f}) < alpha (.05), and t > 0, we reject the null hypothesis''')"
   ]
  },
  {
   "cell_type": "code",
   "execution_count": null,
   "id": "d421eaa7",
   "metadata": {},
   "outputs": [],
   "source": [
    "mpg['transmission_type'] = np.where(mpg.trans.str.contains('auto'), 'Auto Transmission', 'Manual Transmission')\n"
   ]
  },
  {
   "cell_type": "code",
   "execution_count": null,
   "id": "f905765a",
   "metadata": {},
   "outputs": [],
   "source": [
    "plt.figure(figsize=(9,6))\n",
    "mpg.groupby('transmission_type').avg_fe.mean().plot.bar()\n",
    "plt.xticks(rotation=0)\n",
    "plt.xlabel('')\n",
    "plt.ylabel('Average mileage')\n",
    "plt.title('Is mileage different by transmission type?')"
   ]
  },
  {
   "cell_type": "markdown",
   "id": "478fab03",
   "metadata": {},
   "source": [
    "# Correlation Exercises "
   ]
  },
  {
   "cell_type": "raw",
   "id": "de904e83",
   "metadata": {},
   "source": [
    "1. Answer with the type of stats test you would use (assume normal distribution):\n",
    "\n",
    "Is there a relationship between the length of your arm and the length of your foot?\n",
    "\n",
    "- pearson's R, two continuous variables \n",
    "\n",
    "Do guys and gals quit their jobs at the same rate?\n",
    "\n",
    "- T Test, two tail, gender discrete variable, quit rate continuous variable \n",
    "\n",
    "Does the length of time of the lecture correlate with a students grade?\n",
    "\n",
    "- pearson's R, two continuous variables "
   ]
  },
  {
   "cell_type": "code",
   "execution_count": 32,
   "id": "8f98a2fc",
   "metadata": {
    "scrolled": true
   },
   "outputs": [
    {
     "data": {
      "text/html": [
       "<div>\n",
       "<style scoped>\n",
       "    .dataframe tbody tr th:only-of-type {\n",
       "        vertical-align: middle;\n",
       "    }\n",
       "\n",
       "    .dataframe tbody tr th {\n",
       "        vertical-align: top;\n",
       "    }\n",
       "\n",
       "    .dataframe thead th {\n",
       "        text-align: right;\n",
       "    }\n",
       "</style>\n",
       "<table border=\"1\" class=\"dataframe\">\n",
       "  <thead>\n",
       "    <tr style=\"text-align: right;\">\n",
       "      <th></th>\n",
       "      <th>customer_id</th>\n",
       "      <th>gender</th>\n",
       "      <th>senior_citizen</th>\n",
       "      <th>partner</th>\n",
       "      <th>dependents</th>\n",
       "      <th>tenure</th>\n",
       "      <th>phone_service</th>\n",
       "      <th>multiple_lines</th>\n",
       "      <th>internet_service_type_id</th>\n",
       "      <th>online_security</th>\n",
       "      <th>...</th>\n",
       "      <th>device_protection</th>\n",
       "      <th>tech_support</th>\n",
       "      <th>streaming_tv</th>\n",
       "      <th>streaming_movies</th>\n",
       "      <th>contract_type_id</th>\n",
       "      <th>paperless_billing</th>\n",
       "      <th>payment_type_id</th>\n",
       "      <th>monthly_charges</th>\n",
       "      <th>total_charges</th>\n",
       "      <th>churn</th>\n",
       "    </tr>\n",
       "  </thead>\n",
       "  <tbody>\n",
       "    <tr>\n",
       "      <th>0</th>\n",
       "      <td>0002-ORFBO</td>\n",
       "      <td>Female</td>\n",
       "      <td>0</td>\n",
       "      <td>Yes</td>\n",
       "      <td>Yes</td>\n",
       "      <td>9</td>\n",
       "      <td>Yes</td>\n",
       "      <td>No</td>\n",
       "      <td>1</td>\n",
       "      <td>No</td>\n",
       "      <td>...</td>\n",
       "      <td>No</td>\n",
       "      <td>Yes</td>\n",
       "      <td>Yes</td>\n",
       "      <td>No</td>\n",
       "      <td>2</td>\n",
       "      <td>Yes</td>\n",
       "      <td>2</td>\n",
       "      <td>65.60</td>\n",
       "      <td>593.3</td>\n",
       "      <td>No</td>\n",
       "    </tr>\n",
       "    <tr>\n",
       "      <th>1</th>\n",
       "      <td>0003-MKNFE</td>\n",
       "      <td>Male</td>\n",
       "      <td>0</td>\n",
       "      <td>No</td>\n",
       "      <td>No</td>\n",
       "      <td>9</td>\n",
       "      <td>Yes</td>\n",
       "      <td>Yes</td>\n",
       "      <td>1</td>\n",
       "      <td>No</td>\n",
       "      <td>...</td>\n",
       "      <td>No</td>\n",
       "      <td>No</td>\n",
       "      <td>No</td>\n",
       "      <td>Yes</td>\n",
       "      <td>1</td>\n",
       "      <td>No</td>\n",
       "      <td>2</td>\n",
       "      <td>59.90</td>\n",
       "      <td>542.4</td>\n",
       "      <td>No</td>\n",
       "    </tr>\n",
       "    <tr>\n",
       "      <th>2</th>\n",
       "      <td>0004-TLHLJ</td>\n",
       "      <td>Male</td>\n",
       "      <td>0</td>\n",
       "      <td>No</td>\n",
       "      <td>No</td>\n",
       "      <td>4</td>\n",
       "      <td>Yes</td>\n",
       "      <td>No</td>\n",
       "      <td>2</td>\n",
       "      <td>No</td>\n",
       "      <td>...</td>\n",
       "      <td>Yes</td>\n",
       "      <td>No</td>\n",
       "      <td>No</td>\n",
       "      <td>No</td>\n",
       "      <td>1</td>\n",
       "      <td>Yes</td>\n",
       "      <td>1</td>\n",
       "      <td>73.90</td>\n",
       "      <td>280.85</td>\n",
       "      <td>Yes</td>\n",
       "    </tr>\n",
       "    <tr>\n",
       "      <th>3</th>\n",
       "      <td>0011-IGKFF</td>\n",
       "      <td>Male</td>\n",
       "      <td>1</td>\n",
       "      <td>Yes</td>\n",
       "      <td>No</td>\n",
       "      <td>13</td>\n",
       "      <td>Yes</td>\n",
       "      <td>No</td>\n",
       "      <td>2</td>\n",
       "      <td>No</td>\n",
       "      <td>...</td>\n",
       "      <td>Yes</td>\n",
       "      <td>No</td>\n",
       "      <td>Yes</td>\n",
       "      <td>Yes</td>\n",
       "      <td>1</td>\n",
       "      <td>Yes</td>\n",
       "      <td>1</td>\n",
       "      <td>98.00</td>\n",
       "      <td>1237.85</td>\n",
       "      <td>Yes</td>\n",
       "    </tr>\n",
       "    <tr>\n",
       "      <th>4</th>\n",
       "      <td>0013-EXCHZ</td>\n",
       "      <td>Female</td>\n",
       "      <td>1</td>\n",
       "      <td>Yes</td>\n",
       "      <td>No</td>\n",
       "      <td>3</td>\n",
       "      <td>Yes</td>\n",
       "      <td>No</td>\n",
       "      <td>2</td>\n",
       "      <td>No</td>\n",
       "      <td>...</td>\n",
       "      <td>No</td>\n",
       "      <td>Yes</td>\n",
       "      <td>Yes</td>\n",
       "      <td>No</td>\n",
       "      <td>1</td>\n",
       "      <td>Yes</td>\n",
       "      <td>2</td>\n",
       "      <td>83.90</td>\n",
       "      <td>267.4</td>\n",
       "      <td>Yes</td>\n",
       "    </tr>\n",
       "    <tr>\n",
       "      <th>...</th>\n",
       "      <td>...</td>\n",
       "      <td>...</td>\n",
       "      <td>...</td>\n",
       "      <td>...</td>\n",
       "      <td>...</td>\n",
       "      <td>...</td>\n",
       "      <td>...</td>\n",
       "      <td>...</td>\n",
       "      <td>...</td>\n",
       "      <td>...</td>\n",
       "      <td>...</td>\n",
       "      <td>...</td>\n",
       "      <td>...</td>\n",
       "      <td>...</td>\n",
       "      <td>...</td>\n",
       "      <td>...</td>\n",
       "      <td>...</td>\n",
       "      <td>...</td>\n",
       "      <td>...</td>\n",
       "      <td>...</td>\n",
       "      <td>...</td>\n",
       "    </tr>\n",
       "    <tr>\n",
       "      <th>7038</th>\n",
       "      <td>9987-LUTYD</td>\n",
       "      <td>Female</td>\n",
       "      <td>0</td>\n",
       "      <td>No</td>\n",
       "      <td>No</td>\n",
       "      <td>13</td>\n",
       "      <td>Yes</td>\n",
       "      <td>No</td>\n",
       "      <td>1</td>\n",
       "      <td>Yes</td>\n",
       "      <td>...</td>\n",
       "      <td>No</td>\n",
       "      <td>Yes</td>\n",
       "      <td>No</td>\n",
       "      <td>No</td>\n",
       "      <td>2</td>\n",
       "      <td>No</td>\n",
       "      <td>2</td>\n",
       "      <td>55.15</td>\n",
       "      <td>742.9</td>\n",
       "      <td>No</td>\n",
       "    </tr>\n",
       "    <tr>\n",
       "      <th>7039</th>\n",
       "      <td>9992-RRAMN</td>\n",
       "      <td>Male</td>\n",
       "      <td>0</td>\n",
       "      <td>Yes</td>\n",
       "      <td>No</td>\n",
       "      <td>22</td>\n",
       "      <td>Yes</td>\n",
       "      <td>Yes</td>\n",
       "      <td>2</td>\n",
       "      <td>No</td>\n",
       "      <td>...</td>\n",
       "      <td>No</td>\n",
       "      <td>No</td>\n",
       "      <td>No</td>\n",
       "      <td>Yes</td>\n",
       "      <td>1</td>\n",
       "      <td>Yes</td>\n",
       "      <td>1</td>\n",
       "      <td>85.10</td>\n",
       "      <td>1873.7</td>\n",
       "      <td>Yes</td>\n",
       "    </tr>\n",
       "    <tr>\n",
       "      <th>7040</th>\n",
       "      <td>9992-UJOEL</td>\n",
       "      <td>Male</td>\n",
       "      <td>0</td>\n",
       "      <td>No</td>\n",
       "      <td>No</td>\n",
       "      <td>2</td>\n",
       "      <td>Yes</td>\n",
       "      <td>No</td>\n",
       "      <td>1</td>\n",
       "      <td>No</td>\n",
       "      <td>...</td>\n",
       "      <td>No</td>\n",
       "      <td>No</td>\n",
       "      <td>No</td>\n",
       "      <td>No</td>\n",
       "      <td>1</td>\n",
       "      <td>Yes</td>\n",
       "      <td>2</td>\n",
       "      <td>50.30</td>\n",
       "      <td>92.75</td>\n",
       "      <td>No</td>\n",
       "    </tr>\n",
       "    <tr>\n",
       "      <th>7041</th>\n",
       "      <td>9993-LHIEB</td>\n",
       "      <td>Male</td>\n",
       "      <td>0</td>\n",
       "      <td>Yes</td>\n",
       "      <td>Yes</td>\n",
       "      <td>67</td>\n",
       "      <td>Yes</td>\n",
       "      <td>No</td>\n",
       "      <td>1</td>\n",
       "      <td>Yes</td>\n",
       "      <td>...</td>\n",
       "      <td>Yes</td>\n",
       "      <td>Yes</td>\n",
       "      <td>No</td>\n",
       "      <td>Yes</td>\n",
       "      <td>3</td>\n",
       "      <td>No</td>\n",
       "      <td>2</td>\n",
       "      <td>67.85</td>\n",
       "      <td>4627.65</td>\n",
       "      <td>No</td>\n",
       "    </tr>\n",
       "    <tr>\n",
       "      <th>7042</th>\n",
       "      <td>9995-HOTOH</td>\n",
       "      <td>Male</td>\n",
       "      <td>0</td>\n",
       "      <td>Yes</td>\n",
       "      <td>Yes</td>\n",
       "      <td>63</td>\n",
       "      <td>No</td>\n",
       "      <td>No phone service</td>\n",
       "      <td>1</td>\n",
       "      <td>Yes</td>\n",
       "      <td>...</td>\n",
       "      <td>Yes</td>\n",
       "      <td>No</td>\n",
       "      <td>Yes</td>\n",
       "      <td>Yes</td>\n",
       "      <td>3</td>\n",
       "      <td>No</td>\n",
       "      <td>1</td>\n",
       "      <td>59.00</td>\n",
       "      <td>3707.6</td>\n",
       "      <td>No</td>\n",
       "    </tr>\n",
       "  </tbody>\n",
       "</table>\n",
       "<p>7043 rows × 21 columns</p>\n",
       "</div>"
      ],
      "text/plain": [
       "     customer_id  gender  senior_citizen partner dependents  tenure  \\\n",
       "0     0002-ORFBO  Female               0     Yes        Yes       9   \n",
       "1     0003-MKNFE    Male               0      No         No       9   \n",
       "2     0004-TLHLJ    Male               0      No         No       4   \n",
       "3     0011-IGKFF    Male               1     Yes         No      13   \n",
       "4     0013-EXCHZ  Female               1     Yes         No       3   \n",
       "...          ...     ...             ...     ...        ...     ...   \n",
       "7038  9987-LUTYD  Female               0      No         No      13   \n",
       "7039  9992-RRAMN    Male               0     Yes         No      22   \n",
       "7040  9992-UJOEL    Male               0      No         No       2   \n",
       "7041  9993-LHIEB    Male               0     Yes        Yes      67   \n",
       "7042  9995-HOTOH    Male               0     Yes        Yes      63   \n",
       "\n",
       "     phone_service    multiple_lines  internet_service_type_id  \\\n",
       "0              Yes                No                         1   \n",
       "1              Yes               Yes                         1   \n",
       "2              Yes                No                         2   \n",
       "3              Yes                No                         2   \n",
       "4              Yes                No                         2   \n",
       "...            ...               ...                       ...   \n",
       "7038           Yes                No                         1   \n",
       "7039           Yes               Yes                         2   \n",
       "7040           Yes                No                         1   \n",
       "7041           Yes                No                         1   \n",
       "7042            No  No phone service                         1   \n",
       "\n",
       "     online_security  ... device_protection tech_support streaming_tv  \\\n",
       "0                 No  ...                No          Yes          Yes   \n",
       "1                 No  ...                No           No           No   \n",
       "2                 No  ...               Yes           No           No   \n",
       "3                 No  ...               Yes           No          Yes   \n",
       "4                 No  ...                No          Yes          Yes   \n",
       "...              ...  ...               ...          ...          ...   \n",
       "7038             Yes  ...                No          Yes           No   \n",
       "7039              No  ...                No           No           No   \n",
       "7040              No  ...                No           No           No   \n",
       "7041             Yes  ...               Yes          Yes           No   \n",
       "7042             Yes  ...               Yes           No          Yes   \n",
       "\n",
       "     streaming_movies contract_type_id  paperless_billing payment_type_id  \\\n",
       "0                  No                2                Yes               2   \n",
       "1                 Yes                1                 No               2   \n",
       "2                  No                1                Yes               1   \n",
       "3                 Yes                1                Yes               1   \n",
       "4                  No                1                Yes               2   \n",
       "...               ...              ...                ...             ...   \n",
       "7038               No                2                 No               2   \n",
       "7039              Yes                1                Yes               1   \n",
       "7040               No                1                Yes               2   \n",
       "7041              Yes                3                 No               2   \n",
       "7042              Yes                3                 No               1   \n",
       "\n",
       "      monthly_charges  total_charges churn  \n",
       "0               65.60          593.3    No  \n",
       "1               59.90          542.4    No  \n",
       "2               73.90         280.85   Yes  \n",
       "3               98.00        1237.85   Yes  \n",
       "4               83.90          267.4   Yes  \n",
       "...               ...            ...   ...  \n",
       "7038            55.15          742.9    No  \n",
       "7039            85.10         1873.7   Yes  \n",
       "7040            50.30          92.75    No  \n",
       "7041            67.85        4627.65    No  \n",
       "7042            59.00         3707.6    No  \n",
       "\n",
       "[7043 rows x 21 columns]"
      ]
     },
     "execution_count": 32,
     "metadata": {},
     "output_type": "execute_result"
    }
   ],
   "source": [
    "# read from the SQL database\n",
    "from get_db_url import make_db\n",
    "\n",
    "    \n",
    "df = make_db('telco_churn','SELECT * FROM customers')\n",
    "df"
   ]
  },
  {
   "cell_type": "code",
   "execution_count": null,
   "id": "9ca96107",
   "metadata": {},
   "outputs": [],
   "source": [
    "#explore data\n",
    "df.columns"
   ]
  },
  {
   "cell_type": "code",
   "execution_count": null,
   "id": "e820d83d",
   "metadata": {},
   "outputs": [],
   "source": [
    "#limit scope of dataset\n"
   ]
  },
  {
   "cell_type": "code",
   "execution_count": null,
   "id": "e42886a5",
   "metadata": {},
   "outputs": [],
   "source": [
    "#identify empty spaces "
   ]
  },
  {
   "cell_type": "code",
   "execution_count": null,
   "id": "40f1f5f9",
   "metadata": {},
   "outputs": [],
   "source": [
    "#change blank spaces to null \n",
    "df.total_charges = df.total_charges.replace('', np.nan).astype(float)"
   ]
  },
  {
   "cell_type": "code",
   "execution_count": null,
   "id": "cfa9f1e0",
   "metadata": {},
   "outputs": [],
   "source": [
    "df = df.dropna()\n",
    "#dropping null values "
   ]
  },
  {
   "cell_type": "code",
   "execution_count": null,
   "id": "9c3413c5",
   "metadata": {
    "scrolled": true
   },
   "outputs": [],
   "source": [
    "df.info()"
   ]
  },
  {
   "cell_type": "code",
   "execution_count": null,
   "id": "d0afdd79",
   "metadata": {},
   "outputs": [],
   "source": []
  },
  {
   "cell_type": "markdown",
   "id": "a34b27bf",
   "metadata": {},
   "source": [
    "# 2a. Does tenure correlate with monthly charges?\n",
    "- $\\alpha = .05$\n",
    "- $H_0$: There is no linear relationship between tenure and monthly_charges.\n",
    "- $H_a$: There is a linear relationship between tenure and monthly_charges."
   ]
  },
  {
   "cell_type": "code",
   "execution_count": null,
   "id": "7d559474",
   "metadata": {},
   "outputs": [],
   "source": [
    "#chart of variables \n",
    "\n",
    "df.plot.scatter(y='monthly_charges', x='tenure')"
   ]
  },
  {
   "cell_type": "code",
   "execution_count": null,
   "id": "85284f3d",
   "metadata": {},
   "outputs": [],
   "source": [
    "x = df.tenure\n",
    "y = df.monthly_charges"
   ]
  },
  {
   "cell_type": "code",
   "execution_count": null,
   "id": "cd8ccc42",
   "metadata": {},
   "outputs": [],
   "source": [
    "r, p = stats.pearsonr(x, y)\n",
    "print('r =', r)\n",
    "print('p =', p)"
   ]
  },
  {
   "cell_type": "code",
   "execution_count": null,
   "id": "60af36ae",
   "metadata": {},
   "outputs": [],
   "source": [
    "# 0: No relationship\n",
    "# 0 - 0.2: Weak positive relationship\n",
    "# 0.2 - 0.4: Moderate positive relationship\n",
    "# 0.4 - 1: Strong positive relationship\n",
    "\n",
    "# 0 - -0.2: Weak negative relationship\n",
    "# -0.2 - -0.4: Moderate negative relationship\n",
    "# -0.4 - -1: Strong negative relationship"
   ]
  },
  {
   "cell_type": "markdown",
   "id": "3632a0e3",
   "metadata": {},
   "source": [
    "Conclusion: we reject the null hypothesis that there is no linear relationship between exam score and number of hours studied."
   ]
  },
  {
   "cell_type": "markdown",
   "id": "ddeb8339",
   "metadata": {},
   "source": [
    "# 2 b. Does tenure correlate with monthly charges?\n",
    "- $\\alpha = .05$\n",
    "- $H_0$: There is no linear relationship between tenure and total_charges.\n",
    "- $H_a$: There is a linear relationship between tenure and total_charges."
   ]
  },
  {
   "cell_type": "code",
   "execution_count": null,
   "id": "d3471417",
   "metadata": {},
   "outputs": [],
   "source": [
    "df"
   ]
  },
  {
   "cell_type": "code",
   "execution_count": null,
   "id": "c8c613c5",
   "metadata": {},
   "outputs": [],
   "source": [
    "#chart of variables \n",
    "\n",
    "df.plot.scatter(y='total_charges', x='tenure')"
   ]
  },
  {
   "cell_type": "code",
   "execution_count": null,
   "id": "c5b20af1",
   "metadata": {
    "scrolled": true
   },
   "outputs": [],
   "source": [
    "#from get_db_url import make_db\n",
    "\n",
    "x = 'tenure'\n",
    "y = 'total_charges'\n",
    "\n",
    "r, p = stats.pearsonr(x, y)\n",
    "print('r =', r)\n",
    "print('p =', p)"
   ]
  },
  {
   "cell_type": "code",
   "execution_count": null,
   "id": "a8121915",
   "metadata": {},
   "outputs": [],
   "source": []
  },
  {
   "cell_type": "markdown",
   "id": "9165f817",
   "metadata": {},
   "source": [
    "# 2c. Control for phone and internet service?\n",
    "- $\\alpha = .05$\n",
    "- $H_0$: There is no linear relationship between tenure and phone and internet service.\n",
    "- $H_a$: There is a linear relationship between tenure and phone and internet service."
   ]
  },
  {
   "cell_type": "code",
   "execution_count": null,
   "id": "4aab4465",
   "metadata": {},
   "outputs": [],
   "source": [
    "def corr_tenure_and_monthly(df):\n",
    "    return pd.Series(stats.pearsonr(df.tenure, df.monthly_charges), index = ['r', 'p'])\n",
    "\n",
    "#function being applied to groupby a couple lines down\n",
    "# does stats test for each group "
   ]
  },
  {
   "cell_type": "code",
   "execution_count": null,
   "id": "872a2649",
   "metadata": {},
   "outputs": [],
   "source": [
    "df.groupby(['internet_service_type', 'phone_service'])"
   ]
  },
  {
   "cell_type": "code",
   "execution_count": null,
   "id": "db1d0adc",
   "metadata": {},
   "outputs": [],
   "source": [
    "#do stuff faster with this one trick stakeholders hate!\n",
    "df.groupby(['internet_service_type', 'phone_service']).apply(corr_tenure_andmonthly)\n",
    "\n",
    "\n",
    "#what you are controlling goes into group by, what \n",
    "#you are testing goes in function of groupby on lines above\n",
    "#Controlling for something, taking group apart and run test on\n",
    "#individual pieces, phone service, internet service type being broken apart\n",
    "#allows to identify no difference between the specific variables, \n",
    "#in this example type of internet and yes or no phone service\n",
    "\n"
   ]
  },
  {
   "cell_type": "code",
   "execution_count": null,
   "id": "7879cfe9",
   "metadata": {},
   "outputs": [],
   "source": []
  },
  {
   "cell_type": "code",
   "execution_count": null,
   "id": "d7ffbe79",
   "metadata": {},
   "outputs": [],
   "source": []
  },
  {
   "cell_type": "code",
   "execution_count": null,
   "id": "2013ea83",
   "metadata": {},
   "outputs": [],
   "source": []
  },
  {
   "cell_type": "code",
   "execution_count": null,
   "id": "a9215c29",
   "metadata": {},
   "outputs": [],
   "source": []
  },
  {
   "cell_type": "code",
   "execution_count": null,
   "id": "088fc351",
   "metadata": {},
   "outputs": [],
   "source": []
  },
  {
   "cell_type": "code",
   "execution_count": null,
   "id": "8fea529a",
   "metadata": {},
   "outputs": [],
   "source": []
  },
  {
   "cell_type": "markdown",
   "id": "a625f69b",
   "metadata": {},
   "source": [
    "# 3a. Is there a relationship between how long an employee has been with the company and their salary?\n",
    "- $\\alpha = .05$\n",
    "- $H_0$: There is no linear relationship between tenure and salary.\n",
    "- $H_a$: There is a linear relationship between tenure and salary."
   ]
  },
  {
   "cell_type": "code",
   "execution_count": 31,
   "id": "7b3eaec9",
   "metadata": {},
   "outputs": [
    {
     "ename": "NameError",
     "evalue": "name 'make_db' is not defined",
     "output_type": "error",
     "traceback": [
      "\u001b[0;31m---------------------------------------------------------------------------\u001b[0m",
      "\u001b[0;31mNameError\u001b[0m                                 Traceback (most recent call last)",
      "Input \u001b[0;32mIn [31]\u001b[0m, in \u001b[0;36m<cell line: 1>\u001b[0;34m()\u001b[0m\n\u001b[0;32m----> 1\u001b[0m df \u001b[38;5;241m=\u001b[39m \u001b[43mmake_db\u001b[49m(\u001b[38;5;124m'\u001b[39m\u001b[38;5;124memployees\u001b[39m\u001b[38;5;124m'\u001b[39m,\u001b[38;5;124m'\u001b[39m\u001b[38;5;124mSELECT * FROM customers\u001b[39m\u001b[38;5;124m'\u001b[39m)\n\u001b[1;32m      2\u001b[0m df\n",
      "\u001b[0;31mNameError\u001b[0m: name 'make_db' is not defined"
     ]
    }
   ],
   "source": [
    "df = make_db('employees','SELECT * FROM customers')\n",
    "df"
   ]
  },
  {
   "cell_type": "code",
   "execution_count": null,
   "id": "679e9487",
   "metadata": {},
   "outputs": [],
   "source": [
    "employees_with_salaries"
   ]
  },
  {
   "cell_type": "code",
   "execution_count": null,
   "id": "e51f6db7",
   "metadata": {},
   "outputs": [],
   "source": [
    "stats.pearsonr(employees_with_salaries.tenure, employees_with_salaries.salary)"
   ]
  },
  {
   "cell_type": "code",
   "execution_count": null,
   "id": "e9b6d3fe",
   "metadata": {},
   "outputs": [],
   "source": [
    "sns.replot(data=employees_with_salaries.tenure,)"
   ]
  },
  {
   "cell_type": "code",
   "execution_count": null,
   "id": "a90e3a7b",
   "metadata": {},
   "outputs": [],
   "source": []
  },
  {
   "cell_type": "code",
   "execution_count": null,
   "id": "8b28ce92",
   "metadata": {},
   "outputs": [],
   "source": []
  },
  {
   "cell_type": "code",
   "execution_count": null,
   "id": "3052a850",
   "metadata": {},
   "outputs": [],
   "source": []
  },
  {
   "cell_type": "code",
   "execution_count": null,
   "id": "30b53085",
   "metadata": {},
   "outputs": [],
   "source": []
  },
  {
   "cell_type": "code",
   "execution_count": null,
   "id": "1222eee8",
   "metadata": {},
   "outputs": [],
   "source": []
  },
  {
   "cell_type": "markdown",
   "id": "9ab9774a",
   "metadata": {},
   "source": [
    "# 3b. Is there a relationship between how long an employee has been with the company and number of titles they have had?\n",
    "- $\\alpha = .05$\n",
    "- $H_0$: There is no linear relationship between how long an employee has been with the company and number of titles there have had.\n",
    "- $H_a$: There is a linear relationship between thow long an employee has been with the company and number of titles there have had."
   ]
  },
  {
   "cell_type": "code",
   "execution_count": null,
   "id": "2ac0f307",
   "metadata": {},
   "outputs": [],
   "source": [
    "# select querry"
   ]
  },
  {
   "cell_type": "code",
   "execution_count": null,
   "id": "91ecbbfe",
   "metadata": {},
   "outputs": [],
   "source": [
    "employees_with_titles"
   ]
  },
  {
   "cell_type": "code",
   "execution_count": null,
   "id": "4589025a",
   "metadata": {},
   "outputs": [],
   "source": [
    "stats.pearsonr(employees_with_titles.tenure, employeees_with_titles.n_titles)"
   ]
  },
  {
   "cell_type": "code",
   "execution_count": null,
   "id": "5c590e9e",
   "metadata": {},
   "outputs": [],
   "source": []
  },
  {
   "cell_type": "code",
   "execution_count": null,
   "id": "9d62aaa7",
   "metadata": {},
   "outputs": [],
   "source": []
  },
  {
   "cell_type": "code",
   "execution_count": null,
   "id": "32d10161",
   "metadata": {},
   "outputs": [],
   "source": []
  },
  {
   "cell_type": "code",
   "execution_count": null,
   "id": "0f39131e",
   "metadata": {},
   "outputs": [],
   "source": []
  },
  {
   "cell_type": "code",
   "execution_count": null,
   "id": "23a71584",
   "metadata": {},
   "outputs": [],
   "source": []
  },
  {
   "cell_type": "markdown",
   "id": "5bbd5371",
   "metadata": {},
   "source": [
    "# 4. Is there a relationship between days and reaction time?\n",
    "\n",
    "- $\\alpha = .05$\n",
    "- $H_0$: There is no linear relationship between days and reaction time.\n",
    "- $H_a$: There is a linear relationship between days and reaction time."
   ]
  },
  {
   "cell_type": "code",
   "execution_count": null,
   "id": "eac2e5e3",
   "metadata": {},
   "outputs": [],
   "source": [
    "pydataset.data('sleeepstudy', show_doc=True)"
   ]
  },
  {
   "cell_type": "code",
   "execution_count": null,
   "id": "f0a132b0",
   "metadata": {},
   "outputs": [],
   "source": [
    "sleeep = pydataset.data('sleepstudy')\n",
    "sleep.head()"
   ]
  },
  {
   "cell_type": "code",
   "execution_count": null,
   "id": "934f1c56",
   "metadata": {},
   "outputs": [],
   "source": [
    "stats.pearsonr(sleep.Reaction, sleep.Days) # reject null hypthesis"
   ]
  },
  {
   "cell_type": "code",
   "execution_count": null,
   "id": "fb1cee3d",
   "metadata": {},
   "outputs": [],
   "source": [
    "sns.lmplot(data=sleep, y='Reaction', x ='Days')"
   ]
  },
  {
   "cell_type": "code",
   "execution_count": null,
   "id": "813ba2b8",
   "metadata": {},
   "outputs": [],
   "source": []
  },
  {
   "cell_type": "code",
   "execution_count": null,
   "id": "52f9116a",
   "metadata": {},
   "outputs": [],
   "source": []
  },
  {
   "cell_type": "markdown",
   "id": "6603b55a",
   "metadata": {},
   "source": [
    "# chi Square Exercises"
   ]
  },
  {
   "cell_type": "raw",
   "id": "663a9b16",
   "metadata": {},
   "source": [
    "1. Answer with the type of stats test you would use (assume normal distribution):\n",
    "\n",
    "Do students get better test grades if they have a rubber duck on their desk?\n",
    "\n",
    "- T Test, two tail, two sample \n",
    "\n",
    "Does smoking affect when or not someone has lung cancer?\n",
    "\n",
    "- chi square \n",
    "\n",
    "Is gender independent of a person’s blood type?\n",
    "\n",
    "- chi square \n",
    "\n",
    "A farming company wants to know if a new fertilizer has improved crop yield or not\n",
    "\n",
    "- T Test, one tail, two samples \n",
    "\n",
    "Does the length of time of the lecture correlate with a students grade?\n",
    "\n",
    "- Pearson's R \n",
    "\n",
    "Do people with dogs live in apartments more than people with cats?\n",
    "\n",
    "- Chi Square "
   ]
  },
  {
   "cell_type": "raw",
   "id": "5e46ef5b",
   "metadata": {},
   "source": [
    "Use the following contingency table to help answer the question of whether using a macbook and being a codeup student are independent of each other.\n",
    "\n",
    "null - There is no association between using a macbook and being a codeup student\n",
    "\n",
    "alternative - there is an association between using a macbook and being a codeup student "
   ]
  },
  {
   "cell_type": "code",
   "execution_count": null,
   "id": "e310d350",
   "metadata": {},
   "outputs": [],
   "source": [
    "import pandas as pd\n",
    "import numpy as np\n",
    "\n",
    "from pydataset import data\n",
    "from scipy import stats"
   ]
  },
  {
   "cell_type": "code",
   "execution_count": null,
   "id": "7f0f11b9",
   "metadata": {},
   "outputs": [],
   "source": [
    "\n",
    "\n",
    "index = ['Uses a Macbook', 'Does not Use A Macbook']\n",
    "columns = ['Codeup Student', 'Not Codeup Student']\n",
    "\n",
    "observed = pd.DataFrame([[49, 20], [1, 30]], index=index, columns=columns)\n",
    "n = observed.values.sum()\n",
    "\n",
    "expected = pd.DataFrame([[.345, .132], [.345, .132]], index=index, columns=columns) * n\n",
    "\n",
    "chi2 = ((observed - expected)**2 / expected).values.sum()\n",
    "\n",
    "nrows, ncols = observed.shape\n",
    "\n",
    "degrees_of_freedom = (nrows - 1) * (ncols - 1)\n",
    "\n",
    "p = stats.chi2(degrees_of_freedom).sf(chi2)\n",
    "\n",
    "print('Observed')\n",
    "print(observed)\n",
    "print('---\\nExpected')\n",
    "print(expected)\n",
    "print('---\\n')\n",
    "print(f'chi^2 = {chi2:.4f}')\n",
    "print(f'p     = {p:.4f}')\n"
   ]
  },
  {
   "cell_type": "raw",
   "id": "a0742a9a",
   "metadata": {},
   "source": [
    "3. Choose another 2 categorical variables from the mpg dataset and perform a \n",
    "chi2\n",
    " contingency table test with them. Be sure to state your null and alternative hypotheses."
   ]
  },
  {
   "cell_type": "code",
   "execution_count": null,
   "id": "821580b1",
   "metadata": {},
   "outputs": [],
   "source": [
    "alpha = .05\n",
    "mpg = data('mpg')\n",
    "\n",
    "mpg.nunique()"
   ]
  },
  {
   "cell_type": "markdown",
   "id": "58fe5900",
   "metadata": {},
   "source": [
    "Hypothesis\n",
    "null - there is no association between the year and cylinder\n",
    "\n",
    "alternative - there is an association between the year and cylinder "
   ]
  },
  {
   "cell_type": "code",
   "execution_count": null,
   "id": "e15e87dd",
   "metadata": {},
   "outputs": [],
   "source": [
    "mpg.year.value_counts()"
   ]
  },
  {
   "cell_type": "code",
   "execution_count": null,
   "id": "5dad57f9",
   "metadata": {},
   "outputs": [],
   "source": [
    "mpg.cyl.value_counts()"
   ]
  },
  {
   "cell_type": "code",
   "execution_count": null,
   "id": "308d1ab2",
   "metadata": {},
   "outputs": [],
   "source": [
    "observed = pd.crosstab(mpg.year, mpg.cyl)\n",
    "observed"
   ]
  },
  {
   "cell_type": "code",
   "execution_count": null,
   "id": "5cb9ec4b",
   "metadata": {},
   "outputs": [],
   "source": [
    "chi2, p, degf, expected = stats.chi2_contingency(observed)\n"
   ]
  },
  {
   "cell_type": "code",
   "execution_count": null,
   "id": "6f94d569",
   "metadata": {},
   "outputs": [],
   "source": [
    "p"
   ]
  },
  {
   "cell_type": "code",
   "execution_count": null,
   "id": "aa353dc4",
   "metadata": {},
   "outputs": [],
   "source": [
    "print('Observed')\n",
    "print(observed.values)\n",
    "print('\\nExpected')\n",
    "print(expected.astype(int))\n",
    "print('\\n----')\n",
    "print(f'chi^2 = {chi2:.4f}')\n",
    "print(f'p     = {p:.4f}')"
   ]
  },
  {
   "cell_type": "code",
   "execution_count": null,
   "id": "8ce43452",
   "metadata": {},
   "outputs": [],
   "source": [
    "if p < alpha:\n",
    "    print('We reject the null')\n",
    "else:\n",
    "    print(\"we fail to reject the null\")"
   ]
  },
  {
   "cell_type": "markdown",
   "id": "277e3aac",
   "metadata": {},
   "source": [
    "In English - We reject the null, so there is an association between the year the car was manufactured and the cylinder type. "
   ]
  },
  {
   "cell_type": "raw",
   "id": "818e5e63",
   "metadata": {},
   "source": [
    "4. Use the data from the employees database to answer these questions:\n",
    "\n",
    "a. Is an employee's gender independent of whether an employee works in sales or marketing? (only look at current employees)\n",
    "\n",
    "Null - An employees gender is independent of whether an employee works in sales or marketing\n",
    "\n",
    "Alternative - An employees gender is not independent of whether an employee works in sales or marketing\n"
   ]
  },
  {
   "cell_type": "code",
   "execution_count": 40,
   "id": "efa08dfc",
   "metadata": {},
   "outputs": [
    {
     "data": {
      "text/html": [
       "<div>\n",
       "<style scoped>\n",
       "    .dataframe tbody tr th:only-of-type {\n",
       "        vertical-align: middle;\n",
       "    }\n",
       "\n",
       "    .dataframe tbody tr th {\n",
       "        vertical-align: top;\n",
       "    }\n",
       "\n",
       "    .dataframe thead th {\n",
       "        text-align: right;\n",
       "    }\n",
       "</style>\n",
       "<table border=\"1\" class=\"dataframe\">\n",
       "  <thead>\n",
       "    <tr style=\"text-align: right;\">\n",
       "      <th></th>\n",
       "      <th>emp_no</th>\n",
       "      <th>gender</th>\n",
       "      <th>dept_name</th>\n",
       "    </tr>\n",
       "  </thead>\n",
       "  <tbody>\n",
       "    <tr>\n",
       "      <th>0</th>\n",
       "      <td>10017</td>\n",
       "      <td>F</td>\n",
       "      <td>Marketing</td>\n",
       "    </tr>\n",
       "    <tr>\n",
       "      <th>1</th>\n",
       "      <td>10058</td>\n",
       "      <td>M</td>\n",
       "      <td>Marketing</td>\n",
       "    </tr>\n",
       "    <tr>\n",
       "      <th>2</th>\n",
       "      <td>10140</td>\n",
       "      <td>F</td>\n",
       "      <td>Marketing</td>\n",
       "    </tr>\n",
       "    <tr>\n",
       "      <th>3</th>\n",
       "      <td>10228</td>\n",
       "      <td>F</td>\n",
       "      <td>Marketing</td>\n",
       "    </tr>\n",
       "    <tr>\n",
       "      <th>4</th>\n",
       "      <td>10239</td>\n",
       "      <td>F</td>\n",
       "      <td>Marketing</td>\n",
       "    </tr>\n",
       "    <tr>\n",
       "      <th>...</th>\n",
       "      <td>...</td>\n",
       "      <td>...</td>\n",
       "      <td>...</td>\n",
       "    </tr>\n",
       "    <tr>\n",
       "      <th>52538</th>\n",
       "      <td>499966</td>\n",
       "      <td>F</td>\n",
       "      <td>Sales</td>\n",
       "    </tr>\n",
       "    <tr>\n",
       "      <th>52539</th>\n",
       "      <td>499976</td>\n",
       "      <td>M</td>\n",
       "      <td>Sales</td>\n",
       "    </tr>\n",
       "    <tr>\n",
       "      <th>52540</th>\n",
       "      <td>499980</td>\n",
       "      <td>M</td>\n",
       "      <td>Sales</td>\n",
       "    </tr>\n",
       "    <tr>\n",
       "      <th>52541</th>\n",
       "      <td>499986</td>\n",
       "      <td>F</td>\n",
       "      <td>Sales</td>\n",
       "    </tr>\n",
       "    <tr>\n",
       "      <th>52542</th>\n",
       "      <td>499987</td>\n",
       "      <td>F</td>\n",
       "      <td>Sales</td>\n",
       "    </tr>\n",
       "  </tbody>\n",
       "</table>\n",
       "<p>52543 rows × 3 columns</p>\n",
       "</div>"
      ],
      "text/plain": [
       "       emp_no gender  dept_name\n",
       "0       10017      F  Marketing\n",
       "1       10058      M  Marketing\n",
       "2       10140      F  Marketing\n",
       "3       10228      F  Marketing\n",
       "4       10239      F  Marketing\n",
       "...       ...    ...        ...\n",
       "52538  499966      F      Sales\n",
       "52539  499976      M      Sales\n",
       "52540  499980      M      Sales\n",
       "52541  499986      F      Sales\n",
       "52542  499987      F      Sales\n",
       "\n",
       "[52543 rows x 3 columns]"
      ]
     },
     "execution_count": 40,
     "metadata": {},
     "output_type": "execute_result"
    }
   ],
   "source": [
    "x = '''select emp_no, gender, dept_name\n",
    "        from employees\n",
    "            join dept_emp\n",
    "                using (emp_no)\n",
    "            join departments\n",
    "                using (dept_no)\n",
    "        where to_date = '9999-01-01'\n",
    "        and dept_name in ('Marketing','Sales')'''\n",
    "\n",
    "emp = make_db('employees', x)\n",
    "              \n",
    "alpha = .05          \n",
    "              \n",
    "emp "
   ]
  },
  {
   "cell_type": "code",
   "execution_count": 44,
   "id": "ce7c129c",
   "metadata": {
    "scrolled": true
   },
   "outputs": [
    {
     "data": {
      "text/plain": [
       "M    31680\n",
       "F    20863\n",
       "Name: gender, dtype: int64"
      ]
     },
     "execution_count": 44,
     "metadata": {},
     "output_type": "execute_result"
    }
   ],
   "source": [
    "emp.gender.value_counts()"
   ]
  },
  {
   "cell_type": "code",
   "execution_count": 45,
   "id": "036e6386",
   "metadata": {},
   "outputs": [
    {
     "data": {
      "text/plain": [
       "Sales        37701\n",
       "Marketing    14842\n",
       "Name: dept_name, dtype: int64"
      ]
     },
     "execution_count": 45,
     "metadata": {},
     "output_type": "execute_result"
    }
   ],
   "source": [
    "emp.dept_name.value_counts()"
   ]
  },
  {
   "cell_type": "code",
   "execution_count": 47,
   "id": "285ede0e",
   "metadata": {},
   "outputs": [],
   "source": [
    "observed = pd.crosstab(emp.gender, emp.dept_name)"
   ]
  },
  {
   "cell_type": "code",
   "execution_count": 48,
   "id": "27f26a67",
   "metadata": {},
   "outputs": [],
   "source": [
    "chi2, p, degf, expected = stats.chi2_contingency(observed)"
   ]
  },
  {
   "cell_type": "code",
   "execution_count": 49,
   "id": "44f25e0f",
   "metadata": {},
   "outputs": [
    {
     "name": "stdout",
     "output_type": "stream",
     "text": [
      "Observed\n",
      "[[ 5864 14999]\n",
      " [ 8978 22702]]\n",
      "\n",
      "Expected\n",
      "[[ 5893 14969]\n",
      " [ 8948 22731]]\n",
      "\n",
      "----\n",
      "chi^2 = 0.3240\n",
      "p     = 0.5692\n"
     ]
    }
   ],
   "source": [
    "print('Observed')\n",
    "print(observed.values)\n",
    "print('\\nExpected')\n",
    "print(expected.astype(int))\n",
    "print('\\n----')\n",
    "print(f'chi^2 = {chi2:.4f}')\n",
    "print(f'p     = {p:.4f}')"
   ]
  },
  {
   "cell_type": "code",
   "execution_count": 50,
   "id": "d1744081",
   "metadata": {},
   "outputs": [
    {
     "name": "stdout",
     "output_type": "stream",
     "text": [
      "we fail to reject the null\n"
     ]
    }
   ],
   "source": [
    "if p < alpha:\n",
    "    print('We reject the null')\n",
    "else:\n",
    "    print(\"we fail to reject the null\")"
   ]
  },
  {
   "cell_type": "raw",
   "id": "9e917268",
   "metadata": {},
   "source": [
    "Regular Words, there is reason to believe that an employees gender is not independent of whether or not they work in sales or marketing"
   ]
  },
  {
   "cell_type": "raw",
   "id": "4b0170bf",
   "metadata": {},
   "source": [
    "Null - There is no association between a person's gender and whether or not they are a manager\n",
    "Alternative - There is an association between a person's gender and whether or not they are a manager"
   ]
  },
  {
   "cell_type": "raw",
   "id": "2cef6bae",
   "metadata": {},
   "source": [
    "b. Is an employee's gender independent of whether or not they are or have been a manager?"
   ]
  },
  {
   "cell_type": "code",
   "execution_count": 105,
   "id": "7e9faef8",
   "metadata": {
    "scrolled": true
   },
   "outputs": [
    {
     "data": {
      "text/html": [
       "<div>\n",
       "<style scoped>\n",
       "    .dataframe tbody tr th:only-of-type {\n",
       "        vertical-align: middle;\n",
       "    }\n",
       "\n",
       "    .dataframe tbody tr th {\n",
       "        vertical-align: top;\n",
       "    }\n",
       "\n",
       "    .dataframe thead th {\n",
       "        text-align: right;\n",
       "    }\n",
       "</style>\n",
       "<table border=\"1\" class=\"dataframe\">\n",
       "  <thead>\n",
       "    <tr style=\"text-align: right;\">\n",
       "      <th></th>\n",
       "      <th>emp_no</th>\n",
       "      <th>gender</th>\n",
       "      <th>dept_no</th>\n",
       "    </tr>\n",
       "  </thead>\n",
       "  <tbody>\n",
       "    <tr>\n",
       "      <th>0</th>\n",
       "      <td>10001</td>\n",
       "      <td>M</td>\n",
       "      <td>None</td>\n",
       "    </tr>\n",
       "    <tr>\n",
       "      <th>1</th>\n",
       "      <td>10002</td>\n",
       "      <td>F</td>\n",
       "      <td>None</td>\n",
       "    </tr>\n",
       "    <tr>\n",
       "      <th>2</th>\n",
       "      <td>10003</td>\n",
       "      <td>M</td>\n",
       "      <td>None</td>\n",
       "    </tr>\n",
       "    <tr>\n",
       "      <th>3</th>\n",
       "      <td>10004</td>\n",
       "      <td>M</td>\n",
       "      <td>None</td>\n",
       "    </tr>\n",
       "    <tr>\n",
       "      <th>4</th>\n",
       "      <td>10005</td>\n",
       "      <td>M</td>\n",
       "      <td>None</td>\n",
       "    </tr>\n",
       "    <tr>\n",
       "      <th>...</th>\n",
       "      <td>...</td>\n",
       "      <td>...</td>\n",
       "      <td>...</td>\n",
       "    </tr>\n",
       "    <tr>\n",
       "      <th>300019</th>\n",
       "      <td>499995</td>\n",
       "      <td>F</td>\n",
       "      <td>None</td>\n",
       "    </tr>\n",
       "    <tr>\n",
       "      <th>300020</th>\n",
       "      <td>499996</td>\n",
       "      <td>M</td>\n",
       "      <td>None</td>\n",
       "    </tr>\n",
       "    <tr>\n",
       "      <th>300021</th>\n",
       "      <td>499997</td>\n",
       "      <td>M</td>\n",
       "      <td>None</td>\n",
       "    </tr>\n",
       "    <tr>\n",
       "      <th>300022</th>\n",
       "      <td>499998</td>\n",
       "      <td>M</td>\n",
       "      <td>None</td>\n",
       "    </tr>\n",
       "    <tr>\n",
       "      <th>300023</th>\n",
       "      <td>499999</td>\n",
       "      <td>M</td>\n",
       "      <td>None</td>\n",
       "    </tr>\n",
       "  </tbody>\n",
       "</table>\n",
       "<p>300024 rows × 3 columns</p>\n",
       "</div>"
      ],
      "text/plain": [
       "        emp_no gender dept_no\n",
       "0        10001      M    None\n",
       "1        10002      F    None\n",
       "2        10003      M    None\n",
       "3        10004      M    None\n",
       "4        10005      M    None\n",
       "...        ...    ...     ...\n",
       "300019  499995      F    None\n",
       "300020  499996      M    None\n",
       "300021  499997      M    None\n",
       "300022  499998      M    None\n",
       "300023  499999      M    None\n",
       "\n",
       "[300024 rows x 3 columns]"
      ]
     },
     "execution_count": 105,
     "metadata": {},
     "output_type": "execute_result"
    }
   ],
   "source": [
    "x = '''select emp_no, gender, dept_no\n",
    "        from employees\n",
    "            left join dept_manager\n",
    "                using (emp_no)'''\n",
    "\n",
    "emp = make_db('employees', x)\n",
    "emp"
   ]
  },
  {
   "cell_type": "code",
   "execution_count": 106,
   "id": "2321402a",
   "metadata": {},
   "outputs": [
    {
     "name": "stdout",
     "output_type": "stream",
     "text": [
      "<class 'pandas.core.frame.DataFrame'>\n",
      "RangeIndex: 300024 entries, 0 to 300023\n",
      "Data columns (total 3 columns):\n",
      " #   Column   Non-Null Count   Dtype \n",
      "---  ------   --------------   ----- \n",
      " 0   emp_no   300024 non-null  int64 \n",
      " 1   gender   300024 non-null  object\n",
      " 2   dept_no  24 non-null      object\n",
      "dtypes: int64(1), object(2)\n",
      "memory usage: 6.9+ MB\n"
     ]
    }
   ],
   "source": [
    "emp.info()"
   ]
  },
  {
   "cell_type": "code",
   "execution_count": 107,
   "id": "050dcfc6",
   "metadata": {},
   "outputs": [
    {
     "data": {
      "text/plain": [
       "None    300000\n",
       "d004         4\n",
       "d006         4\n",
       "d009         4\n",
       "d001         2\n",
       "d002         2\n",
       "d003         2\n",
       "d005         2\n",
       "d007         2\n",
       "d008         2\n",
       "Name: dept_no, dtype: int64"
      ]
     },
     "execution_count": 107,
     "metadata": {},
     "output_type": "execute_result"
    }
   ],
   "source": [
    "#number of people not managers\n",
    "emp.dept_no.value_counts(dropna=False)"
   ]
  },
  {
   "cell_type": "code",
   "execution_count": 108,
   "id": "20fa3b02",
   "metadata": {},
   "outputs": [],
   "source": [
    "#fill in nulls/nones\n",
    "df.dept_no = emp.dept_no.fillna('not manager')"
   ]
  },
  {
   "cell_type": "code",
   "execution_count": 109,
   "id": "8c5ef995",
   "metadata": {},
   "outputs": [
    {
     "data": {
      "text/plain": [
       "not manager    300000\n",
       "d004                4\n",
       "d006                4\n",
       "d009                4\n",
       "d001                2\n",
       "d002                2\n",
       "d003                2\n",
       "d005                2\n",
       "d007                2\n",
       "d008                2\n",
       "Name: dept_no, dtype: int64"
      ]
     },
     "execution_count": 109,
     "metadata": {},
     "output_type": "execute_result"
    }
   ],
   "source": [
    "df.dept_no.value_counts()"
   ]
  },
  {
   "cell_type": "code",
   "execution_count": 110,
   "id": "56b75ff2",
   "metadata": {},
   "outputs": [],
   "source": [
    "emp.dept_no = emp.dept_no.fillna('not manager')"
   ]
  },
  {
   "cell_type": "code",
   "execution_count": 111,
   "id": "7739f990",
   "metadata": {},
   "outputs": [
    {
     "data": {
      "text/plain": [
       "not manager    300000\n",
       "d004                4\n",
       "d006                4\n",
       "d009                4\n",
       "d001                2\n",
       "d002                2\n",
       "d003                2\n",
       "d005                2\n",
       "d007                2\n",
       "d008                2\n",
       "Name: dept_no, dtype: int64"
      ]
     },
     "execution_count": 111,
     "metadata": {},
     "output_type": "execute_result"
    }
   ],
   "source": [
    "emp.dept_no.value_counts()"
   ]
  },
  {
   "cell_type": "code",
   "execution_count": 112,
   "id": "725056bd",
   "metadata": {},
   "outputs": [],
   "source": [
    "emp.dept_no = np.where( emp.dept_no != 'not manager', \n",
    "                      'manager', 'not manager')"
   ]
  },
  {
   "cell_type": "code",
   "execution_count": 113,
   "id": "eed90526",
   "metadata": {},
   "outputs": [
    {
     "data": {
      "text/plain": [
       "not manager    300000\n",
       "manager            24\n",
       "Name: dept_no, dtype: int64"
      ]
     },
     "execution_count": 113,
     "metadata": {},
     "output_type": "execute_result"
    }
   ],
   "source": [
    "emp.dept_no.value_counts()"
   ]
  },
  {
   "cell_type": "code",
   "execution_count": 114,
   "id": "d7bcfb3e",
   "metadata": {},
   "outputs": [
    {
     "data": {
      "text/html": [
       "<div>\n",
       "<style scoped>\n",
       "    .dataframe tbody tr th:only-of-type {\n",
       "        vertical-align: middle;\n",
       "    }\n",
       "\n",
       "    .dataframe tbody tr th {\n",
       "        vertical-align: top;\n",
       "    }\n",
       "\n",
       "    .dataframe thead th {\n",
       "        text-align: right;\n",
       "    }\n",
       "</style>\n",
       "<table border=\"1\" class=\"dataframe\">\n",
       "  <thead>\n",
       "    <tr style=\"text-align: right;\">\n",
       "      <th>dept_no</th>\n",
       "      <th>manager</th>\n",
       "      <th>not manager</th>\n",
       "    </tr>\n",
       "    <tr>\n",
       "      <th>gender</th>\n",
       "      <th></th>\n",
       "      <th></th>\n",
       "    </tr>\n",
       "  </thead>\n",
       "  <tbody>\n",
       "    <tr>\n",
       "      <th>F</th>\n",
       "      <td>13</td>\n",
       "      <td>120038</td>\n",
       "    </tr>\n",
       "    <tr>\n",
       "      <th>M</th>\n",
       "      <td>11</td>\n",
       "      <td>179962</td>\n",
       "    </tr>\n",
       "  </tbody>\n",
       "</table>\n",
       "</div>"
      ],
      "text/plain": [
       "dept_no  manager  not manager\n",
       "gender                       \n",
       "F             13       120038\n",
       "M             11       179962"
      ]
     },
     "execution_count": 114,
     "metadata": {},
     "output_type": "execute_result"
    }
   ],
   "source": [
    "observed = pd.crosstab(emp.gender, emp.dept_no)\n",
    "observed"
   ]
  },
  {
   "cell_type": "code",
   "execution_count": 115,
   "id": "9cf6da2d",
   "metadata": {},
   "outputs": [],
   "source": [
    "chi2, p, degf, expected = stats.chi2_contingency(observed)"
   ]
  },
  {
   "cell_type": "code",
   "execution_count": 116,
   "id": "893b3d60",
   "metadata": {},
   "outputs": [
    {
     "name": "stdout",
     "output_type": "stream",
     "text": [
      "Observed\n",
      "[[    13 120038]\n",
      " [    11 179962]]\n",
      "\n",
      "Expected\n",
      "[[     9 120041]\n",
      " [    14 179958]]\n",
      "\n",
      "----\n",
      "chi^2 = 1.4567\n",
      "p     = 0.2275\n"
     ]
    }
   ],
   "source": [
    "#output values\n",
    "print('Observed')\n",
    "print(observed.values)\n",
    "print('\\nExpected')\n",
    "print(expected.astype(int))\n",
    "print('\\n----')\n",
    "print(f'chi^2 = {chi2:.4f}')\n",
    "print(f'p     = {p:.4f}')"
   ]
  },
  {
   "cell_type": "code",
   "execution_count": 117,
   "id": "68f995b0",
   "metadata": {},
   "outputs": [
    {
     "name": "stdout",
     "output_type": "stream",
     "text": [
      "we fail to reject the null hypothesis\n"
     ]
    }
   ],
   "source": [
    "#conclude\n",
    "if p < alpha:\n",
    "    print('We reject the null hypothesis')\n",
    "else:\n",
    "    print(\"we fail to reject the null hypothesis\")"
   ]
  },
  {
   "cell_type": "raw",
   "id": "bfc5b6da",
   "metadata": {},
   "source": [
    "Alternative - There is an association between a person's gender and whether or not they are a manager"
   ]
  },
  {
   "cell_type": "code",
   "execution_count": null,
   "id": "8666b642",
   "metadata": {},
   "outputs": [],
   "source": []
  }
 ],
 "metadata": {
  "kernelspec": {
   "display_name": "Python 3 (ipykernel)",
   "language": "python",
   "name": "python3"
  },
  "language_info": {
   "codemirror_mode": {
    "name": "ipython",
    "version": 3
   },
   "file_extension": ".py",
   "mimetype": "text/x-python",
   "name": "python",
   "nbconvert_exporter": "python",
   "pygments_lexer": "ipython3",
   "version": "3.9.12"
  }
 },
 "nbformat": 4,
 "nbformat_minor": 5
}
