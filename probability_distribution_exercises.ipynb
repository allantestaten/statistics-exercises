{
 "cells": [
  {
   "cell_type": "code",
   "execution_count": 8,
   "id": "835cf3a3",
   "metadata": {},
   "outputs": [],
   "source": [
    "# pyplot for plotting\n",
    "import matplotlib.pyplot as plt\n",
    "# numpy for vectorized array operations\n",
    "import numpy as np\n",
    "# pandas for proper tabular manipulation\n",
    "import pandas as pd\n",
    "# scipy stats for our subversions\n",
    "from scipy import stats"
   ]
  },
  {
   "cell_type": "markdown",
   "id": "7d8138c5",
   "metadata": {},
   "source": [
    "1. A bank found that the average number of cars waiting during the noon hour at a drive-up window follows a Poisson distribution with a mean of 2 cars. Make a chart of this distribution and answer these questions concerning the probability of cars waiting at the drive-up window.\n",
    "\n",
    "What is the probability that no cars drive up in the noon hour?\n",
    "What is the probability that 3 or more cars come through the drive through?\n",
    "How likely is it that the drive through gets at least 1 car?"
   ]
  },
  {
   "cell_type": "code",
   "execution_count": 16,
   "id": "60149e3e",
   "metadata": {},
   "outputs": [
    {
     "data": {
      "image/png": "[encoded data removed]",
      "text/plain": [
       "<Figure size 648x432 with 1 Axes>"
      ]
     },
     "metadata": {
      "needs_background": "light"
     },
     "output_type": "display_data"
    }
   ],
   "source": [
    "λ = 2\n",
    "\n",
    "x = np.arange(0, 11)\n",
    "y = cars_driven_up.pmf(x)\n",
    "\n",
    "plt.figure(figsize=(9, 6))\n",
    "plt.bar(x, y, edgecolor='black', color='white', width=1)\n",
    "plt.xticks(x)\n",
    "plt.title('Poisson distribution with $λ = 2$')\n",
    "plt.xlabel('Number of cars during noon hour')\n",
    "plt.ylabel('$P(X)$')\n",
    "plt.show()"
   ]
  },
  {
   "cell_type": "code",
   "execution_count": 10,
   "id": "61511505",
   "metadata": {},
   "outputs": [],
   "source": [
    "#λ = 2 cars per 1 hour (mean)\n",
    "λ = 2\n",
    "cars_driven_up = stats.poisson(λ)"
   ]
  },
  {
   "cell_type": "code",
   "execution_count": 11,
   "id": "07d4bc25",
   "metadata": {},
   "outputs": [
    {
     "data": {
      "text/plain": [
       "0.1353352832366127"
      ]
     },
     "execution_count": 11,
     "metadata": {},
     "output_type": "execute_result"
    }
   ],
   "source": [
    "cars_driven_up.pmf(0)\n",
    "#no cars, reason for 0 \n",
    "#.pmf, have given value want probability of that value, data is discrete"
   ]
  },
  {
   "cell_type": "code",
   "execution_count": 12,
   "id": "1d5bcd0f",
   "metadata": {},
   "outputs": [
    {
     "data": {
      "text/plain": [
       "0.32332358381693654"
      ]
     },
     "execution_count": 12,
     "metadata": {},
     "output_type": "execute_result"
    }
   ],
   "source": [
    "cars_driven_up.sf(2)\n",
    "#3 or more cars\n",
    "#n-1 for sf (2) for n or more question\n",
    "#sf probability random variable takes on a value greater than a given point\n",
    "#sf when given value and want probability"
   ]
  },
  {
   "cell_type": "code",
   "execution_count": 14,
   "id": "92c1fb65",
   "metadata": {},
   "outputs": [
    {
     "data": {
      "text/plain": [
       "0.8646647167633873"
      ]
     },
     "execution_count": 14,
     "metadata": {},
     "output_type": "execute_result"
    }
   ],
   "source": [
    "cars_driven_up.sf(0)\n",
    "#at least 1 car"
   ]
  },
  {
   "cell_type": "markdown",
   "id": "9311fb46",
   "metadata": {},
   "source": [
    "2. Grades of State University graduates are normally distributed with a mean of 3.0 and a standard deviation of .3. Calculate the following:\n",
    "\n",
    "What grade point average is required to be in the top 5% of the graduating class?\n",
    "What GPA constitutes the bottom 15% of the class?\n",
    "An eccentric alumnus left scholarship money for students in the third decile from the bottom of their class. Determine the range of the third decile. Would a student with a 2.8 grade point average qualify for this scholarship?"
   ]
  },
  {
   "cell_type": "code",
   "execution_count": 60,
   "id": "df85e50f",
   "metadata": {},
   "outputs": [],
   "source": [
    "#Top 5% of graduating class\n",
    "μ = 3.0\n",
    "σ = .3\n",
    "\n",
    "grade_avg = stats.norm(μ, σ)\n"
   ]
  },
  {
   "cell_type": "code",
   "execution_count": 61,
   "id": "6edffffa",
   "metadata": {},
   "outputs": [
    {
     "data": {
      "text/plain": [
       "array([2.70880084, 2.55106846, 3.51497342, 2.96027458, 2.66745485,\n",
       "       2.717416  , 2.6877923 , 2.75298328, 2.89752778, 3.18640944,\n",
       "       3.41481342, 2.79322512, 3.19403857, 3.22939164, 2.65201324,\n",
       "       3.19237596, 3.08213901, 2.91121531, 2.98667465, 3.00038928,\n",
       "       2.31573   , 3.30219611, 3.2639186 , 3.3841031 , 2.96549929,\n",
       "       3.35330138, 2.89768634, 3.1480124 , 3.37142081, 3.07683832,\n",
       "       2.6031309 , 3.32182893, 3.37800278, 3.17751884, 2.73430658,\n",
       "       2.68139644, 2.86409783, 2.40726085, 2.56038368, 3.10375285,\n",
       "       3.02311399, 2.76128977, 3.29099197, 3.60605507, 2.46707953,\n",
       "       2.68597458, 3.23217203, 3.33016628, 2.81968875, 3.25445214,\n",
       "       2.32462873, 3.27736205, 3.04805537, 3.24089118, 2.68802699,\n",
       "       2.52126937, 3.20182817, 2.47500475, 2.97493191, 2.88267332,\n",
       "       3.20866354, 2.30853613, 3.25095279, 2.84372606, 2.86161213,\n",
       "       2.83996692, 3.17386255, 2.99339042, 2.9019583 , 3.38739452,\n",
       "       2.8654962 , 2.99403241, 3.04919801, 3.33652375, 3.0543514 ,\n",
       "       3.06017615, 2.72657648, 2.88635191, 3.01949911, 3.12669962,\n",
       "       3.38517781, 3.72384004, 2.7419007 , 3.55149921, 3.21324611,\n",
       "       3.12268444, 2.8296277 , 2.85690911, 3.18455857, 2.91938138,\n",
       "       3.15044165, 2.78946316, 2.88385603, 2.6614267 , 2.87193925,\n",
       "       3.20542487, 2.87087477, 2.75156127, 2.98731643, 3.42591135,\n",
       "       2.76675702, 2.79464558, 2.50446217, 3.16694079, 2.71665882,\n",
       "       3.13676093, 2.83936701, 3.09627737, 2.34175431, 3.16866964,\n",
       "       2.76582074, 3.17109681, 2.66367272, 2.73036007, 2.44208338,\n",
       "       2.99685446, 2.8568618 , 3.21133911, 3.15749667, 2.75266162,\n",
       "       2.62671917, 2.37455845, 2.88373773, 2.96728981, 2.74995407,\n",
       "       2.93597534, 2.63947671, 2.95032107, 3.05568714, 2.62560893,\n",
       "       2.77345149, 2.53063675, 2.58275391, 2.62772254, 3.14297914,\n",
       "       2.92457015, 3.09555197, 3.04806284, 3.39425385, 2.78439321,\n",
       "       3.48807912, 2.76080252, 3.00708431, 2.64711822, 3.05428307,\n",
       "       3.13132689, 2.92372707, 3.07403725, 3.15344603, 2.77835856,\n",
       "       3.33617906, 2.88012909, 3.30860507, 3.47881275, 2.88075705,\n",
       "       3.43809912, 3.02814204, 2.92228317, 3.21876855, 3.28874038,\n",
       "       3.13415981, 3.01434825, 2.56993237, 2.66014712, 3.09960954,\n",
       "       2.83338408, 3.73517884, 2.86627499, 3.15540054, 3.31387252,\n",
       "       3.29600464, 3.06088101, 2.83543774, 2.38220035, 2.77654927,\n",
       "       2.60366953, 2.97382181, 3.24435695, 2.85353204, 2.72838118,\n",
       "       2.59794565, 3.20754886, 3.23500876, 3.12670727, 2.61971152,\n",
       "       3.2016057 , 2.2245367 , 2.90546661, 2.92392565, 2.80612514,\n",
       "       3.18821704, 2.91437048, 2.64518925, 3.06019012, 2.69632957,\n",
       "       2.99727336, 3.636134  , 3.05768464, 3.17573456, 2.95787907,\n",
       "       3.24394754, 3.16744466, 3.26439782, 3.10568206, 3.47404229,\n",
       "       3.16243197, 3.08001348, 3.06512521, 2.49648097, 3.24790015,\n",
       "       2.1489493 , 2.66910194, 3.42197293, 3.11595886, 3.13570287,\n",
       "       3.00757378, 2.90057391, 3.16286879, 2.7273606 , 2.48473167,\n",
       "       2.39362202, 3.2918137 , 3.11895019, 3.0631001 , 2.74859448,\n",
       "       3.03276806, 3.38760023, 3.15439227, 2.94602588, 3.68944567,\n",
       "       2.77510856, 3.05564797, 2.12911656, 2.92569813, 2.95947444,\n",
       "       2.85736577, 3.3381094 , 2.48247933, 3.06884654, 2.76442981,\n",
       "       3.39182703, 2.97092482, 2.69378868, 3.12064978, 3.12738866,\n",
       "       3.11432106, 3.2490018 , 3.11314372, 2.63880977, 3.24346624,\n",
       "       2.72655811, 2.82209265, 2.88510061, 3.34989989, 2.82901581,\n",
       "       3.17653897, 2.95331511, 3.02809676, 3.27510441, 2.82179503,\n",
       "       3.03602246, 3.07972463, 2.47349353, 3.08131151, 3.20203906,\n",
       "       2.63470955, 2.8592674 , 3.40321919, 2.86330363, 3.3334615 ,\n",
       "       3.06499713, 3.32487042, 3.22532402, 2.65691368, 2.63899427,\n",
       "       3.30598886, 2.9514752 , 3.05963092, 2.37096889, 2.95472733,\n",
       "       3.14395597, 3.17050894, 3.26412146, 3.28922208, 2.99749429,\n",
       "       3.07384131, 2.72096045, 3.61250193, 2.85198394, 2.60953308,\n",
       "       2.8917219 , 3.08464427, 2.74870464, 3.58194774, 3.16763186,\n",
       "       2.57644717, 3.48029251, 2.73187735, 3.18045081, 2.72459305,\n",
       "       2.88970877, 2.46100285, 3.30955002, 2.46266664, 2.88910221,\n",
       "       3.72066212, 3.29535778, 3.45593635, 3.09657129, 2.66781529,\n",
       "       3.28646149, 2.98165511, 3.25575062, 2.52214521, 3.14260081,\n",
       "       2.59473819, 3.29971996, 3.89686537, 2.47788952, 2.777313  ,\n",
       "       3.59921833, 2.95617061, 2.77982054, 3.0253861 , 2.90947094,\n",
       "       2.75755809, 3.31639618, 2.84319001, 2.99327219, 3.03829404,\n",
       "       2.83387724, 3.35443405, 2.68062862, 3.18859682, 2.68781156,\n",
       "       3.4664541 , 3.00907583, 3.10201555, 2.84363391, 2.97693635,\n",
       "       3.41176853, 3.0281467 , 3.4006731 , 2.99443358, 2.95187141,\n",
       "       2.7374387 , 2.9035502 , 2.64395687, 2.89047657, 3.02582731,\n",
       "       3.25731408, 2.95782511, 2.56280795, 3.39757002, 2.92705105,\n",
       "       3.49096274, 2.46720057, 3.26438852, 2.77105551, 2.45071375,\n",
       "       3.19797904, 3.0758995 , 2.86979442, 2.62896889, 3.11151367,\n",
       "       3.23200449, 2.51566746, 2.7192208 , 2.62606452, 2.91207106,\n",
       "       3.2605829 , 2.41550729, 2.66905302, 2.90666877, 3.11657497,\n",
       "       3.38673645, 2.85597046, 2.75738252, 3.11161716, 2.53440924,\n",
       "       3.3544288 , 2.62858373, 2.24045728, 3.30091042, 3.42800132,\n",
       "       3.27547835, 2.53216715, 2.81266821, 3.44742732, 3.10263969,\n",
       "       3.04080246, 2.72526391, 3.24737968, 2.92584991, 3.22387833,\n",
       "       2.9030019 , 2.38208974, 2.84369544, 2.55826899, 3.35753268,\n",
       "       3.19007641, 2.97458666, 2.82908021, 2.6130556 , 2.96665836,\n",
       "       3.52040922, 3.13235923, 2.81368475, 2.75177212, 2.90451783,\n",
       "       2.96501394, 2.86980734, 2.52169407, 3.45140725, 3.27399034,\n",
       "       2.79910988, 2.64980468, 2.61152023, 2.95323759, 2.52662195,\n",
       "       3.27600215, 2.67816118, 3.27745398, 3.1937115 , 2.53574286,\n",
       "       3.4208541 , 2.36668082, 2.97527031, 3.12952244, 2.97722547,\n",
       "       2.87067449, 3.32334224, 3.02946364, 2.71813944, 2.71139564,\n",
       "       3.01586747, 2.62250778, 2.79242847, 3.03409973, 3.21187267,\n",
       "       3.67008656, 3.2471448 , 3.10274648, 2.66294275, 3.16580331,\n",
       "       2.58531839, 2.78862701, 3.19461426, 3.04416055, 3.57343794,\n",
       "       2.519065  , 3.12837547, 3.16566297, 2.70452355, 3.08009338,\n",
       "       2.68497877, 3.34608565, 2.81817769, 2.96228449, 2.85865968,\n",
       "       3.04786584, 2.82189177, 3.45906742, 3.02136209, 2.65970049,\n",
       "       2.69882955, 2.82113469, 3.20685316, 3.05969369, 3.2365558 ,\n",
       "       3.34336631, 3.24949575, 3.58154082, 3.44640146, 2.60212756,\n",
       "       2.78639984, 3.10920723, 3.26295067, 2.90435563, 2.83832979,\n",
       "       2.81595524, 3.25362418, 3.39582805, 2.75604762, 3.26318644,\n",
       "       2.73931576, 2.24216431, 2.68306679, 3.1979884 , 3.42809161,\n",
       "       3.0418003 , 2.62715003, 2.71582444, 3.15146915, 3.35202481,\n",
       "       2.87871037, 3.00027318, 2.96630281, 3.80900156, 3.01406356,\n",
       "       3.21168249, 3.66335415, 3.17196589, 3.12780384, 3.09336776,\n",
       "       2.27472061, 3.26344836, 2.52963086, 2.53797249, 2.55021714,\n",
       "       3.25158695, 2.59245874, 2.59783758, 3.37233355, 2.46597561,\n",
       "       2.84506817, 2.85447722, 3.48315665, 3.07205564, 2.96247768,\n",
       "       3.14623699, 3.416349  , 2.81034159, 3.06298016, 2.96357103,\n",
       "       2.82853173, 2.73185459, 2.98921236, 2.81660631, 2.42269895,\n",
       "       2.8224942 , 3.13695269, 2.61344551, 3.13449431, 3.51947605,\n",
       "       2.73753995, 2.58731135, 3.03240288, 3.07775726, 2.90777212,\n",
       "       2.88770281, 2.9827724 , 2.98398571, 2.94660164, 3.03625557,\n",
       "       2.74505123, 3.56489441, 2.64199827, 3.44566352, 3.06282928,\n",
       "       3.32432163, 2.92164614, 2.77497992, 3.13880733, 3.01343941,\n",
       "       3.38730756, 2.98240279, 3.05669209, 2.947996  , 3.53240842,\n",
       "       2.83733368, 2.90607703, 3.60169888, 3.32708575, 2.92053161,\n",
       "       3.36493223, 3.21872638, 3.00219956, 3.13553188, 3.16585995,\n",
       "       3.59094678, 2.80601628, 3.19505376, 2.67958579, 3.19523997,\n",
       "       3.12675166, 2.64301997, 3.11168736, 2.9243627 , 2.57241335,\n",
       "       2.55430962, 3.42856201, 3.30145262, 2.97936279, 2.89359643,\n",
       "       2.67252247, 3.13076475, 3.39635086, 3.61445276, 2.86343533,\n",
       "       3.1889786 , 3.22077773, 3.51630364, 3.18275233, 2.55858446,\n",
       "       2.1619205 , 3.37077349, 3.61189833, 2.94645761, 2.88551947,\n",
       "       3.31176194, 3.01530597, 3.09654777, 2.92415553, 2.83981958,\n",
       "       2.7872661 , 3.05775836, 2.74812799, 3.2899609 , 3.01619905,\n",
       "       2.49859836, 3.16234462, 3.4778663 , 2.80789339, 3.35011741,\n",
       "       3.22582019, 2.59623734, 2.79732729, 3.20165972, 2.84293364,\n",
       "       2.12998822, 2.6091496 , 2.82776276, 2.3635939 , 3.43850931,\n",
       "       2.70746315, 3.41419754, 2.94996417, 3.1560478 , 3.23857361,\n",
       "       3.39006472, 3.18239698, 2.6502873 , 2.9006232 , 2.49660157,\n",
       "       2.78990799, 3.28706336, 2.19043029, 3.53229517, 2.93975374,\n",
       "       3.14717354, 2.84066018, 3.21515547, 3.21541481, 3.14815911,\n",
       "       3.08121146, 3.30121378, 2.89863215, 2.8058557 , 3.3951917 ,\n",
       "       2.9262522 , 3.28872806, 3.22034401, 3.28170704, 2.7940204 ,\n",
       "       3.05254637, 2.73236308, 2.8747666 , 2.5782775 , 2.58103279,\n",
       "       3.86311143, 2.90556945, 3.05184406, 2.70377197, 3.43757944,\n",
       "       2.90346216, 2.50386008, 3.04949895, 3.19860709, 3.20286174,\n",
       "       2.5716157 , 3.78959931, 2.7001707 , 3.01086244, 3.12861896,\n",
       "       3.09466093, 3.0095936 , 3.27805651, 2.78198126, 3.22730895,\n",
       "       2.68855998, 2.54992615, 2.61533097, 2.98704777, 2.66418219,\n",
       "       2.99671561, 3.21868647, 2.9382364 , 3.12722056, 3.20758775,\n",
       "       2.87853946, 3.41867795, 3.13535236, 3.14671343, 3.17408664,\n",
       "       2.9701856 , 2.98095755, 3.02708771, 2.76149633, 3.05783686,\n",
       "       3.38897834, 2.6250406 , 2.86435497, 3.0100274 , 2.4302372 ,\n",
       "       2.92545911, 3.12111602, 2.48863241, 2.55868953, 2.88350783,\n",
       "       2.12158957, 3.15802185, 2.52575222, 2.90058835, 3.40467472,\n",
       "       2.74695325, 3.3366888 , 2.84767757, 3.23741266, 2.67269656,\n",
       "       3.43238838, 2.87517324, 2.86766761, 3.70812229, 3.17905456,\n",
       "       2.98356466, 2.99997506, 3.0730434 , 2.91909805, 3.69475757,\n",
       "       2.64752826, 3.20730559, 2.79870265, 2.77577125, 2.91431193,\n",
       "       2.84226757, 3.15535278, 2.83372583, 2.58779385, 3.2630988 ,\n",
       "       3.18667222, 2.9357326 , 2.88356184, 3.21218242, 3.39620479,\n",
       "       2.02296063, 3.17607102, 2.63264575, 3.27659513, 2.92494738,\n",
       "       3.52831047, 2.59951611, 2.75481364, 2.91865897, 3.24173993,\n",
       "       3.12413262, 3.06523431, 3.02028149, 3.04120974, 2.88790314,\n",
       "       2.85199672, 2.84345663, 3.02688294, 3.05808208, 2.98548843,\n",
       "       3.01234663, 3.35009   , 3.1063325 , 2.94383867, 2.82152206,\n",
       "       3.16995623, 3.54719084, 3.19960056, 3.08430351, 2.93386857,\n",
       "       3.19242817, 2.23754402, 2.81426332, 3.11873505, 2.83280942,\n",
       "       3.23812444, 2.7729674 , 3.28013896, 3.39194521, 3.05524335,\n",
       "       3.33914074, 2.5445947 , 2.80828326, 3.25978281, 3.06653472,\n",
       "       2.85489267, 3.22458622, 3.0104754 , 2.97411198, 3.44866317,\n",
       "       2.88403114, 2.70896316, 2.72648057, 3.34960812, 3.02021874,\n",
       "       2.899348  , 2.74423015, 2.93260578, 2.58954766, 2.75525751,\n",
       "       3.52899398, 2.79266967, 2.75316705, 3.36649687, 3.11582771,\n",
       "       3.3268875 , 3.5685382 , 3.0327605 , 2.88158207, 3.04571555,\n",
       "       2.86504026, 3.15055254, 3.3007664 , 2.77670429, 2.76207842,\n",
       "       3.32805016, 2.49608849, 3.62269529, 3.03258307, 3.60560396,\n",
       "       2.70115532, 3.20149822, 2.95699058, 2.83842682, 2.96473344,\n",
       "       2.78102689, 2.91123785, 3.37115422, 2.49079014, 3.26728349,\n",
       "       2.94335748, 2.91681406, 3.01865522, 2.85189799, 3.3167612 ,\n",
       "       2.81712915, 3.19234533, 3.36086289, 3.60431527, 2.90172055,\n",
       "       3.0530318 , 2.94990319, 3.19071209, 3.2097646 , 2.88687257,\n",
       "       2.74035616, 3.12854655, 3.09187163, 2.93847132, 2.60966609,\n",
       "       2.90718557, 3.29580075, 3.08496149, 3.06178284, 3.60450709,\n",
       "       3.33632535, 2.69876872, 2.53536042, 3.58901308, 2.90792474,\n",
       "       2.71018207, 2.9636757 , 2.531773  , 3.16764656, 2.88970951,\n",
       "       2.87747193, 2.83391974, 2.98261887, 3.09677445, 2.81485672,\n",
       "       2.67106959, 2.71651409, 3.09668943, 2.70026508, 3.44063576,\n",
       "       2.5406232 , 3.35973156, 2.93089823, 3.11784444, 2.78157683,\n",
       "       2.67466795, 2.87005063, 3.38167714, 2.94606697, 2.49584265,\n",
       "       2.67245765, 3.07789888, 3.57650478, 2.82338584, 2.93503572,\n",
       "       3.17518023, 3.01985003, 2.67146591, 3.1151242 , 3.50729075,\n",
       "       3.23524155, 2.91309361, 3.08772429, 2.71893526, 2.88594823,\n",
       "       2.67303418, 2.81675556, 2.85823379, 3.07751084, 2.74332256,\n",
       "       3.16727177, 2.27919705, 3.50481833, 3.27064117, 2.87171648,\n",
       "       3.22348139, 2.73226873, 2.97524776, 2.70567538, 3.22337225,\n",
       "       3.46284527, 2.59173568, 2.99890306, 2.6583958 , 3.03450022,\n",
       "       2.97828644, 2.96671201, 2.3972714 , 2.87562905, 3.2547069 ,\n",
       "       3.58181261, 3.16255332, 3.07550143, 3.00709292, 3.11221948,\n",
       "       3.0017787 , 2.86033377, 2.79893554, 3.02229832, 2.81941496,\n",
       "       2.85098523, 2.26176566, 3.15006836, 2.62310467, 3.03926059,\n",
       "       3.04914365, 3.58886626, 2.58862814, 3.73344156, 3.03382683,\n",
       "       2.92271305, 2.99940635, 2.68073217, 2.92419936, 3.20031321,\n",
       "       2.69001699, 3.113093  , 3.3910602 , 3.31567583, 3.44845269,\n",
       "       2.29509612, 2.84653212, 3.15251248, 3.17848843, 2.81648142,\n",
       "       3.07478796, 2.73620643, 2.87697528, 3.54104605, 2.97233335,\n",
       "       3.16324243, 2.6694933 , 3.25591989, 2.96766006, 2.89748851,\n",
       "       3.04250159, 3.11968659, 3.3489501 , 2.91119038, 3.24111712,\n",
       "       3.1246141 , 2.6948762 , 2.98854139, 3.30144696, 2.66750551,\n",
       "       3.25823933, 3.7009965 , 2.7684204 , 3.48030436, 2.45334711,\n",
       "       3.16347566, 2.96936527, 3.72307841, 3.39488693, 2.77927749,\n",
       "       2.86935466, 2.80329399, 3.78078157, 2.86592719, 2.35061026])"
      ]
     },
     "execution_count": 61,
     "metadata": {},
     "output_type": "execute_result"
    }
   ],
   "source": [
    "grade_avg.rvs(1000)"
   ]
  },
  {
   "cell_type": "code",
   "execution_count": 66,
   "id": "618080be",
   "metadata": {},
   "outputs": [
    {
     "data": {
      "text/plain": [
       "3.4934560880854417"
      ]
     },
     "execution_count": 66,
     "metadata": {},
     "output_type": "execute_result"
    }
   ],
   "source": [
    "grade_avg.isf(.05)\n",
    "#gpa required for top 5%"
   ]
  },
  {
   "cell_type": "code",
   "execution_count": 63,
   "id": "a3dcf131",
   "metadata": {},
   "outputs": [
    {
     "data": {
      "text/plain": [
       "2.689069983151863"
      ]
     },
     "execution_count": 63,
     "metadata": {},
     "output_type": "execute_result"
    }
   ],
   "source": [
    "grade_avg.ppf(.15)\n",
    "#Bottom 15%"
   ]
  },
  {
   "cell_type": "code",
   "execution_count": 68,
   "id": "c09a7f01",
   "metadata": {},
   "outputs": [
    {
     "data": {
      "text/plain": [
       "array([2.74751363, 2.84267985])"
      ]
     },
     "execution_count": 68,
     "metadata": {},
     "output_type": "execute_result"
    }
   ],
   "source": [
    "grade_avg.ppf([0.2,0.3])\n",
    "#20 -30%\n",
    "# yes 2.8 makes it "
   ]
  },
  {
   "cell_type": "code",
   "execution_count": 69,
   "id": "fd883169",
   "metadata": {
    "scrolled": true
   },
   "outputs": [
    {
     "data": {
      "text/plain": [
       "0.9522096477271853"
      ]
     },
     "execution_count": 69,
     "metadata": {},
     "output_type": "execute_result"
    }
   ],
   "source": [
    "grade_avg.cdf(3.5)\n",
    "#3.5 GPA is what percentile\n",
    "#because 95% are below "
   ]
  },
  {
   "cell_type": "markdown",
   "id": "ea5457d1",
   "metadata": {},
   "source": [
    "3. A marketing website has an average click-through rate of 2%. One day they observe 4326 visitors and 97 click-throughs. How likely is it that this many people or more click through?"
   ]
  },
  {
   "cell_type": "code",
   "execution_count": 28,
   "id": "62800095",
   "metadata": {},
   "outputs": [],
   "source": [
    "# no_trials: 4326 visits\n",
    "# success rate: 2% ==> 0.02\n",
    "trials = 4326\n",
    "click_success = 0.02\n",
    "\n",
    "click_dist = stats.binom(trials, click_success)"
   ]
  },
  {
   "cell_type": "code",
   "execution_count": 29,
   "id": "57fb61fc",
   "metadata": {},
   "outputs": [
    {
     "data": {
      "text/plain": [
       "0.13975823631416448"
      ]
     },
     "execution_count": 29,
     "metadata": {},
     "output_type": "execute_result"
    }
   ],
   "source": [
    "click_dist.sf(96)\n",
    "#How likely is it that 97 people or\n",
    "#more click through?"
   ]
  },
  {
   "cell_type": "markdown",
   "id": "d12c275b",
   "metadata": {},
   "source": [
    "4. You are working on some statistics homework consisting of 100 questions where all of the answers are a probability rounded to the hundreths place. Looking to save time, you put down random probabilities as the answer to each question. What is the probability that at least one of your first 60 answers is correct?\n"
   ]
  },
  {
   "cell_type": "code",
   "execution_count": 70,
   "id": "7f264032",
   "metadata": {},
   "outputs": [
    {
     "data": {
      "text/plain": [
       "0.45284335760923855"
      ]
     },
     "execution_count": 70,
     "metadata": {},
     "output_type": "execute_result"
    }
   ],
   "source": [
    "n = 60\n",
    "p = .01\n",
    "# probability is 1/100, this = p, getting one question right out of 100\n",
    "\n",
    "stats.binom(n,p).sf(0)"
   ]
  },
  {
   "cell_type": "markdown",
   "id": "2dba75ca",
   "metadata": {},
   "source": [
    "5. The codeup staff tends to get upset when the student break area is not cleaned up. Suppose that there's a 3% chance that any one student cleans the break area when they visit it, and, on any given day, about 90% of the 3 active cohorts of 22 students visit the break area. How likely is it that the break area gets cleaned up each day? How likely is it that it goes two days without getting cleaned up? All week?"
   ]
  },
  {
   "cell_type": "code",
   "execution_count": 74,
   "id": "3f33b3a4",
   "metadata": {},
   "outputs": [
    {
     "data": {
      "text/plain": [
       "0.8342199288437352"
      ]
     },
     "execution_count": 74,
     "metadata": {},
     "output_type": "execute_result"
    }
   ],
   "source": [
    "# Binomial Parameters:\n",
    "\n",
    "# trials/number of students that visit/day:66\n",
    "# probability of success: 0.03\n",
    "\n",
    "n = round(.9 * 3 * 22)\n",
    "p = 0.03\n",
    "\n",
    "stats.binom(n,p).sf(0)\n",
    "\n",
    "#x > 0, anyday\n",
    "# n = number of opportunities students have to clean break room. probability * 3 cohorts * 22 visits \n",
    "# .03 probability student cleans break room when visiting"
   ]
  },
  {
   "cell_type": "code",
   "execution_count": 76,
   "id": "6dd9229c",
   "metadata": {},
   "outputs": [
    {
     "data": {
      "text/plain": [
       "0.027483031992576134"
      ]
     },
     "execution_count": 76,
     "metadata": {},
     "output_type": "execute_result"
    }
   ],
   "source": [
    "stats.binom(n*2,p).pmf(0)\n",
    "#two days without being cleaned\n",
    "# n*2 for two days"
   ]
  },
  {
   "cell_type": "code",
   "execution_count": 77,
   "id": "7126047c",
   "metadata": {},
   "outputs": [
    {
     "data": {
      "text/plain": [
       "0.00012521651388091245"
      ]
     },
     "execution_count": 77,
     "metadata": {},
     "output_type": "execute_result"
    }
   ],
   "source": [
    "stats.binom(n*5,p).pmf(0)\n",
    "#all week days without being cleaned\n",
    "# n*5 for two days"
   ]
  },
  {
   "cell_type": "markdown",
   "id": "9841b580",
   "metadata": {},
   "source": [
    "6. You want to get lunch at La Panaderia, but notice that the line is usually very long at lunchtime. After several weeks of careful observation, you notice that the average number of people in line when your lunch break starts is normally distributed with a mean of 15 and standard deviation of 3. If it takes 2 minutes for each person to order, and 10 minutes from ordering to getting your food, what is the likelihood that you have at least 15 minutes left to eat your food before you have to go back to class? Assume you have one hour for lunch, and ignore travel time to and from La Panaderia."
   ]
  },
  {
   "cell_type": "code",
   "execution_count": 18,
   "id": "f0c9698d",
   "metadata": {},
   "outputs": [
    {
     "data": {
      "text/plain": [
       "0.6914624612740131"
      ]
     },
     "execution_count": 18,
     "metadata": {},
     "output_type": "execute_result"
    }
   ],
   "source": [
    "# What kind of distribution is this?\n",
    "mean = 15 * 2\n",
    "#solving using minutes per person, 2 minutes per person * mean of 15 \n",
    "std_dev = 3 * 2 \n",
    "#2 minutes per person per order * 3 std dev\n",
    "# 60-15-10-2 = 33 mins, how long it takes me to get my food\n",
    "stats.norm(mean, std_dev).cdf(33)\n",
    "\n",
    "#how likely is it that you already have 15 minutes "
   ]
  },
  {
   "cell_type": "markdown",
   "id": "df3e7d79",
   "metadata": {},
   "source": [
    "7. Connect to the employees database and find the average salary of current employees, along with the standard deviation. For the following questions, calculate the answer based on modeling the employees salaries with a normal distribution defined by the calculated mean and standard deviation then compare this answer to the actual values present in the salaries dataset.\n",
    "\n",
    "What percent of employees earn less than 60,000?\n",
    "What percent of employees earn more than 95,000?\n",
    "What percent of employees earn between 65,000 and 80,000?\n",
    "What do the top 5% of employees make?"
   ]
  },
  {
   "cell_type": "code",
   "execution_count": 34,
   "id": "43812d25",
   "metadata": {},
   "outputs": [],
   "source": [
    "from get_db_url import make_db\n",
    "\n",
    "    \n",
    "salaries = make_db('employees','SELECT * FROM salaries s WHERE s.to_date > NOW()')\n"
   ]
  },
  {
   "cell_type": "code",
   "execution_count": 35,
   "id": "2e82a134",
   "metadata": {},
   "outputs": [
    {
     "data": {
      "text/html": [
       "<div>\n",
       "<style scoped>\n",
       "    .dataframe tbody tr th:only-of-type {\n",
       "        vertical-align: middle;\n",
       "    }\n",
       "\n",
       "    .dataframe tbody tr th {\n",
       "        vertical-align: top;\n",
       "    }\n",
       "\n",
       "    .dataframe thead th {\n",
       "        text-align: right;\n",
       "    }\n",
       "</style>\n",
       "<table border=\"1\" class=\"dataframe\">\n",
       "  <thead>\n",
       "    <tr style=\"text-align: right;\">\n",
       "      <th></th>\n",
       "      <th>emp_no</th>\n",
       "      <th>salary</th>\n",
       "      <th>from_date</th>\n",
       "      <th>to_date</th>\n",
       "    </tr>\n",
       "  </thead>\n",
       "  <tbody>\n",
       "    <tr>\n",
       "      <th>0</th>\n",
       "      <td>10001</td>\n",
       "      <td>88958</td>\n",
       "      <td>2002-06-22</td>\n",
       "      <td>9999-01-01</td>\n",
       "    </tr>\n",
       "    <tr>\n",
       "      <th>1</th>\n",
       "      <td>10002</td>\n",
       "      <td>72527</td>\n",
       "      <td>2001-08-02</td>\n",
       "      <td>9999-01-01</td>\n",
       "    </tr>\n",
       "    <tr>\n",
       "      <th>2</th>\n",
       "      <td>10003</td>\n",
       "      <td>43311</td>\n",
       "      <td>2001-12-01</td>\n",
       "      <td>9999-01-01</td>\n",
       "    </tr>\n",
       "    <tr>\n",
       "      <th>3</th>\n",
       "      <td>10004</td>\n",
       "      <td>74057</td>\n",
       "      <td>2001-11-27</td>\n",
       "      <td>9999-01-01</td>\n",
       "    </tr>\n",
       "    <tr>\n",
       "      <th>4</th>\n",
       "      <td>10005</td>\n",
       "      <td>94692</td>\n",
       "      <td>2001-09-09</td>\n",
       "      <td>9999-01-01</td>\n",
       "    </tr>\n",
       "    <tr>\n",
       "      <th>...</th>\n",
       "      <td>...</td>\n",
       "      <td>...</td>\n",
       "      <td>...</td>\n",
       "      <td>...</td>\n",
       "    </tr>\n",
       "    <tr>\n",
       "      <th>240119</th>\n",
       "      <td>499995</td>\n",
       "      <td>52868</td>\n",
       "      <td>2002-06-01</td>\n",
       "      <td>9999-01-01</td>\n",
       "    </tr>\n",
       "    <tr>\n",
       "      <th>240120</th>\n",
       "      <td>499996</td>\n",
       "      <td>69501</td>\n",
       "      <td>2002-05-12</td>\n",
       "      <td>9999-01-01</td>\n",
       "    </tr>\n",
       "    <tr>\n",
       "      <th>240121</th>\n",
       "      <td>499997</td>\n",
       "      <td>83441</td>\n",
       "      <td>2001-08-26</td>\n",
       "      <td>9999-01-01</td>\n",
       "    </tr>\n",
       "    <tr>\n",
       "      <th>240122</th>\n",
       "      <td>499998</td>\n",
       "      <td>55003</td>\n",
       "      <td>2001-12-25</td>\n",
       "      <td>9999-01-01</td>\n",
       "    </tr>\n",
       "    <tr>\n",
       "      <th>240123</th>\n",
       "      <td>499999</td>\n",
       "      <td>77303</td>\n",
       "      <td>2001-11-29</td>\n",
       "      <td>9999-01-01</td>\n",
       "    </tr>\n",
       "  </tbody>\n",
       "</table>\n",
       "<p>240124 rows × 4 columns</p>\n",
       "</div>"
      ],
      "text/plain": [
       "        emp_no  salary   from_date     to_date\n",
       "0        10001   88958  2002-06-22  9999-01-01\n",
       "1        10002   72527  2001-08-02  9999-01-01\n",
       "2        10003   43311  2001-12-01  9999-01-01\n",
       "3        10004   74057  2001-11-27  9999-01-01\n",
       "4        10005   94692  2001-09-09  9999-01-01\n",
       "...        ...     ...         ...         ...\n",
       "240119  499995   52868  2002-06-01  9999-01-01\n",
       "240120  499996   69501  2002-05-12  9999-01-01\n",
       "240121  499997   83441  2001-08-26  9999-01-01\n",
       "240122  499998   55003  2001-12-25  9999-01-01\n",
       "240123  499999   77303  2001-11-29  9999-01-01\n",
       "\n",
       "[240124 rows x 4 columns]"
      ]
     },
     "execution_count": 35,
     "metadata": {},
     "output_type": "execute_result"
    }
   ],
   "source": [
    "salaries"
   ]
  },
  {
   "cell_type": "code",
   "execution_count": 39,
   "id": "6cf4d185",
   "metadata": {},
   "outputs": [
    {
     "data": {
      "text/plain": [
       "(72012.23585730705, 17309.99538025198)"
      ]
     },
     "execution_count": 39,
     "metadata": {},
     "output_type": "execute_result"
    }
   ],
   "source": [
    "mean = salaries.salary.mean()\n",
    "std_dev = salaries.salary.std()\n",
    "(mean, std_dev)"
   ]
  },
  {
   "cell_type": "code",
   "execution_count": 40,
   "id": "4922b107",
   "metadata": {},
   "outputs": [
    {
     "data": {
      "text/plain": [
       "0.24385742480214423"
      ]
     },
     "execution_count": 40,
     "metadata": {},
     "output_type": "execute_result"
    }
   ],
   "source": [
    "stats.norm(mean, std_dev).cdf(60_000)"
   ]
  },
  {
   "cell_type": "code",
   "execution_count": 41,
   "id": "b0150a0c",
   "metadata": {},
   "outputs": [
    {
     "data": {
      "text/plain": [
       "0.09208819199804053"
      ]
     },
     "execution_count": 41,
     "metadata": {},
     "output_type": "execute_result"
    }
   ],
   "source": [
    "stats.norm(mean, std_dev).sf(95_000)"
   ]
  },
  {
   "cell_type": "code",
   "execution_count": 42,
   "id": "5cc65593",
   "metadata": {},
   "outputs": [
    {
     "data": {
      "text/plain": [
       "array([0.33506057])"
      ]
     },
     "execution_count": 42,
     "metadata": {},
     "output_type": "execute_result"
    }
   ],
   "source": [
    "np.diff(stats.norm(mean, std_dev).cdf([65000, 80000]))"
   ]
  },
  {
   "cell_type": "code",
   "execution_count": 43,
   "id": "cef14504",
   "metadata": {},
   "outputs": [
    {
     "data": {
      "text/plain": [
       "100484.64454102777"
      ]
     },
     "execution_count": 43,
     "metadata": {},
     "output_type": "execute_result"
    }
   ],
   "source": [
    "stats.norm(mean, std_dev).isf(.05)"
   ]
  },
  {
   "cell_type": "code",
   "execution_count": 44,
   "id": "283a5ce4",
   "metadata": {},
   "outputs": [
    {
     "data": {
      "text/plain": [
       "104225.84999999998"
      ]
     },
     "execution_count": 44,
     "metadata": {},
     "output_type": "execute_result"
    }
   ],
   "source": [
    "salaries.salary.quantile(.95)"
   ]
  },
  {
   "cell_type": "code",
   "execution_count": 45,
   "id": "f4652aac",
   "metadata": {},
   "outputs": [
    {
     "data": {
      "text/plain": [
       "<AxesSubplot:>"
      ]
     },
     "execution_count": 45,
     "metadata": {},
     "output_type": "execute_result"
    },
    {
     "data": {
      "image/png": "[encoded data removed]",
      "text/plain": [
       "<Figure size 432x288 with 1 Axes>"
      ]
     },
     "metadata": {
      "needs_background": "light"
     },
     "output_type": "display_data"
    }
   ],
   "source": [
    "salaries.salary.hist()\n",
    "pd.Series(stats.norm(mean, std_dev).rvs(240124)).hist(alpha = 0.5)"
   ]
  },
  {
   "cell_type": "code",
   "execution_count": null,
   "id": "f23ec4aa",
   "metadata": {},
   "outputs": [],
   "source": []
  }
 ],
 "metadata": {
  "kernelspec": {
   "display_name": "Python 3 (ipykernel)",
   "language": "python",
   "name": "python3"
  },
  "language_info": {
   "codemirror_mode": {
    "name": "ipython",
    "version": 3
   },
   "file_extension": ".py",
   "mimetype": "text/x-python",
   "name": "python",
   "nbconvert_exporter": "python",
   "pygments_lexer": "ipython3",
   "version": "3.9.12"
  }
 },
 "nbformat": 4,
 "nbformat_minor": 5
}
