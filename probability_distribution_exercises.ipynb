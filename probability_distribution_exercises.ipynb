{
 "cells": [
  {
   "cell_type": "code",
   "execution_count": 4,
   "id": "835cf3a3",
   "metadata": {},
   "outputs": [],
   "source": [
    "# pyplot for plotting\n",
    "import matplotlib.pyplot as plt\n",
    "# numpy for vectorized array operations\n",
    "import numpy as np\n",
    "# pandas for proper tabular manipulation\n",
    "import pandas as pd\n",
    "# scipy stats for our subversions\n",
    "from scipy import stats"
   ]
  },
  {
   "cell_type": "markdown",
   "id": "7d8138c5",
   "metadata": {},
   "source": [
    "1. A bank found that the average number of cars waiting during the noon hour at a drive-up window follows a Poisson distribution with a mean of 2 cars. Make a chart of this distribution and answer these questions concerning the probability of cars waiting at the drive-up window.\n",
    "\n",
    "What is the probability that no cars drive up in the noon hour?\n",
    "What is the probability that 3 or more cars come through the drive through?\n",
    "How likely is it that the drive through gets at least 1 car?"
   ]
  },
  {
   "cell_type": "code",
   "execution_count": 5,
   "id": "60149e3e",
   "metadata": {},
   "outputs": [
    {
     "data": {
      "image/png": "[encoded data removed]",
      "text/plain": [
       "<Figure size 648x432 with 1 Axes>"
      ]
     },
     "metadata": {
      "needs_background": "light"
     },
     "output_type": "display_data"
    }
   ],
   "source": [
    "λ = 2\n",
    "\n",
    "x = np.arange(0, 11)\n",
    "y = cars_driven_up.pmf(x)\n",
    "\n",
    "plt.figure(figsize=(9, 6))\n",
    "plt.bar(x, y, edgecolor='black', color='white', width=1)\n",
    "plt.xticks(x)\n",
    "plt.title('Poisson distribution with $λ = 2$')\n",
    "plt.xlabel('Number of cars during noon hour')\n",
    "plt.ylabel('$P(X)$')\n",
    "plt.show()"
   ]
  },
  {
   "cell_type": "code",
   "execution_count": 6,
   "id": "61511505",
   "metadata": {},
   "outputs": [],
   "source": [
    "#λ = 2 cars per 1 hour (mean)\n",
    "λ = 2\n",
    "cars_driven_up = stats.poisson(λ)"
   ]
  },
  {
   "cell_type": "code",
   "execution_count": 7,
   "id": "07d4bc25",
   "metadata": {},
   "outputs": [
    {
     "data": {
      "text/plain": [
       "0.1353352832366127"
      ]
     },
     "execution_count": 7,
     "metadata": {},
     "output_type": "execute_result"
    }
   ],
   "source": [
    "cars_driven_up.pmf(0)\n",
    "#no cars, reason for 0 \n",
    "#.pmf, have given value want probability of that value, data is discrete"
   ]
  },
  {
   "cell_type": "code",
   "execution_count": 8,
   "id": "1d5bcd0f",
   "metadata": {},
   "outputs": [
    {
     "data": {
      "text/plain": [
       "0.32332358381693654"
      ]
     },
     "execution_count": 8,
     "metadata": {},
     "output_type": "execute_result"
    }
   ],
   "source": [
    "cars_driven_up.sf(2)\n",
    "#3 or more cars\n",
    "#n-1 for sf (2) for n or more question\n",
    "#sf probability random variable takes on a value greater than a given point\n",
    "#sf when given value and want probability"
   ]
  },
  {
   "cell_type": "code",
   "execution_count": 9,
   "id": "92c1fb65",
   "metadata": {},
   "outputs": [
    {
     "data": {
      "text/plain": [
       "0.8646647167633873"
      ]
     },
     "execution_count": 9,
     "metadata": {},
     "output_type": "execute_result"
    }
   ],
   "source": [
    "cars_driven_up.sf(0)\n",
    "#at least 1 car"
   ]
  },
  {
   "cell_type": "markdown",
   "id": "9311fb46",
   "metadata": {},
   "source": [
    "2. Grades of State University graduates are normally distributed with a mean of 3.0 and a standard deviation of .3. Calculate the following:\n",
    "\n",
    "What grade point average is required to be in the top 5% of the graduating class?\n",
    "What GPA constitutes the bottom 15% of the class?\n",
    "An eccentric alumnus left scholarship money for students in the third decile from the bottom of their class. Determine the range of the third decile. Would a student with a 2.8 grade point average qualify for this scholarship?"
   ]
  },
  {
   "cell_type": "code",
   "execution_count": 10,
   "id": "df85e50f",
   "metadata": {},
   "outputs": [],
   "source": [
    "#Top 5% of graduating class\n",
    "μ = 3.0\n",
    "σ = .3\n",
    "\n",
    "grade_avg = stats.norm(μ, σ)\n"
   ]
  },
  {
   "cell_type": "code",
   "execution_count": 11,
   "id": "6edffffa",
   "metadata": {},
   "outputs": [
    {
     "data": {
      "text/plain": [
       "array([2.91904837, 3.22975198, 3.11851497, 2.77443862, 3.4376767 ,\n",
       "       2.56124414, 2.85295116, 2.83728287, 2.78790417, 2.80193319,\n",
       "       3.23688989, 2.73514806, 2.77591418, 3.5644362 , 3.40893815,\n",
       "       2.63303512, 3.12738939, 3.07249523, 3.50126442, 3.18756149,\n",
       "       3.1432213 , 3.16751449, 2.71331859, 3.9108148 , 3.35961179,\n",
       "       2.80351553, 3.2825673 , 3.0158261 , 2.99178911, 2.23034173,\n",
       "       2.97060819, 2.61398458, 3.0537693 , 2.45782393, 2.96029105,\n",
       "       2.63266354, 3.53510828, 2.73098262, 3.32630521, 2.75412349,\n",
       "       3.18521741, 2.25041227, 3.12658272, 2.99442642, 3.21628276,\n",
       "       2.68165121, 2.69343421, 2.80713933, 3.06448645, 3.25033982,\n",
       "       2.70794697, 2.93082715, 3.00000064, 2.75314751, 3.70238545,\n",
       "       3.71341314, 3.33206672, 3.24350152, 3.32200134, 3.03376246,\n",
       "       2.67104786, 2.88839894, 2.86654963, 2.90302601, 3.20974783,\n",
       "       3.32140855, 3.79122598, 3.33970011, 3.02027204, 3.25265422,\n",
       "       3.33818973, 2.9569988 , 3.0822119 , 2.99195621, 2.72175112,\n",
       "       3.03066849, 2.85311897, 2.76547999, 2.86614466, 3.13561661,\n",
       "       2.59268034, 2.96008701, 3.22530383, 3.37345156, 3.1254061 ,\n",
       "       2.84484831, 2.68436891, 2.50705352, 2.97718015, 2.81568364,\n",
       "       2.77264462, 3.22748238, 3.03721247, 2.84180654, 3.24446819,\n",
       "       3.43602362, 2.87446578, 3.17409377, 3.4745994 , 2.85209067,\n",
       "       2.50675868, 3.00821685, 3.10853094, 3.00407197, 2.7903467 ,\n",
       "       2.9865986 , 2.85789817, 2.98754806, 2.47839932, 3.20957079,\n",
       "       2.17411376, 2.82081707, 2.63194563, 3.69889325, 3.12179386,\n",
       "       2.90270362, 3.60861433, 3.29640863, 2.52566455, 2.52285303,\n",
       "       3.64667328, 3.17707196, 2.95688156, 3.47273598, 3.3061194 ,\n",
       "       3.08040057, 2.97989083, 2.947453  , 3.07932343, 2.70490537,\n",
       "       3.91203006, 2.73285159, 3.48908285, 3.16718129, 3.65797042,\n",
       "       2.52493159, 2.62543984, 2.95866772, 2.45638851, 3.05590919,\n",
       "       2.74863101, 2.44336744, 3.13989915, 3.23579654, 2.82552295,\n",
       "       2.63185469, 2.72815457, 2.95936856, 2.94984489, 3.0105452 ,\n",
       "       3.04395932, 3.15997274, 2.92435382, 2.81291681, 3.2064977 ,\n",
       "       3.31362342, 3.04194135, 2.64307356, 2.76744766, 2.87967013,\n",
       "       2.5732904 , 3.58617768, 2.87111076, 2.72195427, 2.72619929,\n",
       "       2.73988613, 3.05005859, 2.75138729, 2.91144136, 2.71956877,\n",
       "       2.779949  , 3.2199427 , 3.14451141, 2.73420223, 3.45872351,\n",
       "       3.02317661, 3.38132149, 2.61801478, 2.89053361, 3.03858647,\n",
       "       3.23122957, 2.75458725, 3.36899871, 2.74530748, 3.07168853,\n",
       "       3.48376226, 2.68242799, 3.5013941 , 3.34664248, 3.19710394,\n",
       "       2.79156979, 2.68174021, 2.68205692, 2.60184593, 2.64013777,\n",
       "       2.89116274, 3.04527509, 3.24943166, 2.86717153, 3.12972723,\n",
       "       3.03343502, 3.00044937, 2.89687701, 2.69617894, 2.41282545,\n",
       "       3.01538493, 3.03633722, 2.97819372, 3.01272173, 2.47567534,\n",
       "       3.68239712, 2.77086938, 2.8747876 , 2.5716212 , 3.18354086,\n",
       "       2.9986445 , 3.22693641, 2.92068516, 3.1493373 , 2.97327245,\n",
       "       3.0168505 , 3.67556355, 3.18540225, 2.87630768, 3.08143234,\n",
       "       2.61752219, 2.44171388, 3.46177981, 2.77626073, 2.88957307,\n",
       "       3.05008974, 3.18452328, 2.81222003, 2.87038355, 2.78910165,\n",
       "       2.60591686, 2.99935905, 2.74048171, 3.3546514 , 2.96546021,\n",
       "       3.00094541, 2.72556937, 3.14864425, 2.87954389, 3.09009071,\n",
       "       3.06143737, 3.1813438 , 2.95556035, 2.88663616, 2.92460631,\n",
       "       2.9945941 , 2.94163183, 3.09249909, 3.08827892, 2.9475008 ,\n",
       "       3.15382601, 3.19324363, 3.49119541, 2.61940002, 3.19225864,\n",
       "       3.36083823, 2.87554472, 3.38615389, 2.76094534, 3.53075402,\n",
       "       3.09262275, 2.99311267, 3.58801198, 3.13417903, 3.01308389,\n",
       "       2.97398106, 3.25317691, 3.01308691, 3.15004884, 2.47480336,\n",
       "       3.05093535, 3.25326851, 3.96432241, 2.96343047, 3.07170698,\n",
       "       2.862081  , 3.63559587, 2.60591467, 3.33609393, 3.07105059,\n",
       "       2.94005919, 3.03015987, 3.4133875 , 2.59269216, 3.00206028,\n",
       "       3.15059377, 3.49190088, 2.62824108, 3.3941154 , 3.02013736,\n",
       "       2.7884651 , 2.42191938, 3.35922146, 3.26059943, 2.86583198,\n",
       "       3.15492043, 2.59981744, 3.32431305, 2.88847066, 3.24939056,\n",
       "       3.34013964, 3.16825653, 2.69478034, 2.39712984, 3.02333434,\n",
       "       2.57984585, 3.17457279, 2.91926472, 3.11204333, 2.79503624,\n",
       "       3.02199376, 3.38697023, 2.52461274, 3.40231682, 2.93913577,\n",
       "       2.95783202, 3.52376828, 3.55857034, 2.98935514, 2.53638901,\n",
       "       2.97438774, 2.49810591, 2.92895836, 3.10532497, 2.87798462,\n",
       "       3.00270028, 2.65700032, 2.83179009, 3.13154573, 3.06405642,\n",
       "       2.84578254, 2.83350795, 3.20102624, 3.26719426, 2.59843224,\n",
       "       2.84888097, 2.65786967, 2.48554626, 2.78703576, 2.78263135,\n",
       "       3.09718332, 2.41972055, 2.89074391, 3.23320949, 3.462413  ,\n",
       "       3.42379457, 2.86396651, 3.18549566, 2.87378844, 3.13751485,\n",
       "       3.78795818, 3.17794762, 2.87004842, 2.53135687, 2.80548347,\n",
       "       3.15230254, 3.15577164, 3.01173224, 3.05308379, 2.3350922 ,\n",
       "       3.04604213, 2.75451538, 2.62929672, 2.8657334 , 3.44799279,\n",
       "       3.32916739, 3.27609846, 2.85817891, 2.78745795, 3.31120586,\n",
       "       2.87600854, 2.89190512, 3.02654846, 2.95603686, 3.05030681,\n",
       "       2.97469834, 3.27426996, 3.19961088, 3.53900945, 2.29910147,\n",
       "       3.29211881, 2.80796734, 3.04551046, 2.76176845, 2.84081353,\n",
       "       3.00562671, 2.53580741, 2.66086996, 3.05165838, 2.77938898,\n",
       "       2.97179727, 2.79709599, 2.78539046, 3.48001243, 2.90654441,\n",
       "       2.5037664 , 2.80834231, 3.05421755, 3.03554467, 2.89269529,\n",
       "       3.36775567, 3.22614094, 2.65958458, 3.55537805, 3.14300969,\n",
       "       3.15394205, 2.87364407, 3.09647681, 3.32051951, 2.75425173,\n",
       "       2.80778161, 3.22717686, 3.21811576, 2.81719575, 3.14783048,\n",
       "       2.90141981, 2.93773912, 3.30462887, 2.95971835, 2.86030034,\n",
       "       3.10937266, 2.89163324, 2.21406554, 2.75409795, 3.55990816,\n",
       "       2.85671118, 3.0232671 , 2.83893363, 2.69369821, 3.40477863,\n",
       "       2.90874873, 2.96002397, 2.74839567, 3.02880334, 3.30780206,\n",
       "       2.16171788, 3.26339114, 2.84794797, 2.66044541, 2.77669649,\n",
       "       3.37768202, 2.59238335, 2.99648788, 3.11928485, 2.63782469,\n",
       "       3.48061621, 3.26877463, 2.85464497, 2.99897477, 2.67209902,\n",
       "       2.7842417 , 2.86213082, 3.10132204, 3.02418861, 3.63813701,\n",
       "       2.58391541, 3.37587623, 3.25710109, 3.26388678, 2.80156628,\n",
       "       3.20605644, 3.30302711, 3.55286582, 2.97180883, 2.94341168,\n",
       "       2.94887299, 2.86487827, 2.848784  , 3.23562344, 3.09735721,\n",
       "       2.71872906, 2.77775243, 3.06549427, 3.20183488, 3.76582783,\n",
       "       3.94420982, 3.06982502, 2.7840269 , 2.93491378, 2.74398689,\n",
       "       2.99541775, 2.97844451, 2.73695301, 3.37415105, 3.04773764,\n",
       "       3.05017442, 3.62729916, 2.96703724, 3.09105331, 2.99789538,\n",
       "       3.16086735, 3.26504702, 3.08368975, 3.44802046, 3.24202822,\n",
       "       3.29838222, 2.84017456, 2.97020415, 3.52758555, 3.01886479,\n",
       "       3.32650299, 3.04149548, 3.66636003, 3.15636105, 3.15300712,\n",
       "       2.98892055, 2.67521875, 3.3263089 , 2.58834772, 2.9359277 ,\n",
       "       3.26676737, 2.80362762, 2.76688394, 3.13177813, 3.21503222,\n",
       "       2.79042665, 2.88842858, 3.04218616, 2.91332299, 2.43602462,\n",
       "       2.87310806, 3.10358075, 3.07347708, 2.8003081 , 3.56640722,\n",
       "       3.2865775 , 2.86976026, 2.61331391, 2.73457646, 2.99261251,\n",
       "       3.37279124, 3.01953382, 2.97053506, 2.58107288, 3.21346701,\n",
       "       2.55170774, 2.77007207, 3.39245472, 2.8888433 , 2.71127812,\n",
       "       2.36735581, 2.49054679, 3.14571261, 3.04406149, 2.78719662,\n",
       "       3.17293166, 3.08116336, 2.95745432, 2.65591921, 2.78145376,\n",
       "       2.42974659, 3.4892962 , 3.06793776, 3.60866662, 3.17813799,\n",
       "       2.83783206, 2.8839636 , 3.65736445, 2.61235651, 3.48190658,\n",
       "       3.05367606, 2.92145602, 3.50922405, 2.99794149, 3.26765533,\n",
       "       2.66435737, 2.48613769, 3.18778347, 2.97538888, 3.25700096,\n",
       "       2.95395128, 2.63313233, 3.28588053, 2.65151732, 3.08381645,\n",
       "       3.15602257, 3.17806987, 3.368445  , 2.96772244, 2.81010946,\n",
       "       3.1934606 , 3.53840749, 2.99824067, 2.92406093, 3.11501689,\n",
       "       3.24732452, 2.50601872, 2.57377766, 2.95591226, 2.51421652,\n",
       "       3.30533154, 2.44830038, 2.92606301, 2.56156025, 3.03515239,\n",
       "       2.98255263, 2.78059785, 2.98893979, 2.78619738, 3.2262146 ,\n",
       "       3.32727228, 3.16763442, 3.24193733, 2.86729934, 2.36229621,\n",
       "       3.02334281, 3.28348556, 2.98608021, 3.15942929, 2.35321882,\n",
       "       3.01941956, 2.83914631, 3.32497114, 3.12335566, 3.49423981,\n",
       "       3.02686941, 3.34362443, 2.89222068, 3.23898002, 2.87231545,\n",
       "       3.52471124, 3.35664844, 3.05730568, 2.7986658 , 2.85138145,\n",
       "       3.36607269, 3.25663532, 3.09748337, 2.97687305, 2.71704886,\n",
       "       3.50486019, 2.84844138, 3.00037792, 3.45506325, 3.23712681,\n",
       "       2.77873294, 2.65540677, 3.06959364, 3.41392224, 2.44024254,\n",
       "       2.9549554 , 2.75389451, 2.97680367, 2.63440693, 3.0079553 ,\n",
       "       2.91881435, 2.86875944, 2.61815645, 3.29494174, 3.05683941,\n",
       "       3.24409042, 3.09189449, 2.86958281, 3.16272845, 2.86195371,\n",
       "       2.68317925, 3.57213937, 3.1617338 , 2.7924284 , 3.13077888,\n",
       "       2.79158297, 2.90641062, 3.04882527, 2.77855865, 2.76456059,\n",
       "       2.4511028 , 3.16563812, 2.48965536, 3.12376316, 3.13070039,\n",
       "       3.33749076, 3.28211203, 2.64312286, 2.90166313, 2.77282714,\n",
       "       2.58817191, 2.94549662, 3.47144207, 2.96778658, 3.00294301,\n",
       "       2.77996594, 2.7603273 , 3.08883464, 2.70981193, 3.28832569,\n",
       "       2.97676172, 2.47010356, 2.91917352, 2.88245964, 2.64523265,\n",
       "       2.58388947, 3.21258317, 3.20481415, 2.95587456, 3.24728537,\n",
       "       3.36769269, 3.46492422, 2.87864584, 2.94828092, 2.56493043,\n",
       "       2.82074533, 2.86922839, 3.07721364, 2.67889701, 2.28276364,\n",
       "       3.2964458 , 3.04282747, 3.27778379, 3.02053328, 2.37534609,\n",
       "       3.27083635, 3.09072171, 3.4315118 , 2.9213998 , 3.29864397,\n",
       "       3.19480093, 3.12506802, 3.01825737, 3.05563708, 2.70219234,\n",
       "       2.92351811, 3.17092014, 3.16291843, 3.04504657, 2.8928343 ,\n",
       "       2.92797638, 3.17083164, 3.03953762, 2.68570233, 3.01914927,\n",
       "       3.2306149 , 2.9179101 , 3.22863294, 3.25235419, 3.26506217,\n",
       "       3.31593872, 3.293829  , 3.21092909, 2.88751094, 3.06420744,\n",
       "       2.48662716, 3.13399635, 3.3483038 , 2.98350247, 2.90449024,\n",
       "       3.40399316, 2.56180967, 3.18724237, 3.07844788, 3.41138649,\n",
       "       3.200656  , 3.6348273 , 3.35561238, 2.87290475, 3.03890808,\n",
       "       3.2948773 , 2.47141375, 2.77736435, 3.38433418, 3.32276206,\n",
       "       2.78831352, 3.40111477, 3.48050942, 2.8611013 , 3.02664696,\n",
       "       2.01801439, 2.54121526, 3.27330788, 2.76847316, 3.24699119,\n",
       "       2.880702  , 2.76124775, 3.09324806, 3.37205814, 2.86784981,\n",
       "       3.08100141, 2.94857381, 2.59687266, 2.87208782, 3.04337945,\n",
       "       3.29278993, 2.94642069, 2.78644559, 3.18952509, 2.93476679,\n",
       "       2.81592384, 3.16742792, 2.88429103, 3.15776276, 3.02573691,\n",
       "       3.07814832, 2.98421882, 3.23632048, 3.00511337, 3.14464079,\n",
       "       2.97300034, 2.65281087, 3.05499142, 3.20720209, 3.36806863,\n",
       "       2.39214537, 2.87347258, 3.21064018, 3.30952674, 3.02579458,\n",
       "       3.20612955, 2.51338294, 2.92160599, 3.03389483, 2.92153091,\n",
       "       2.99519186, 3.16164382, 2.75976989, 2.879923  , 2.63274617,\n",
       "       2.97802273, 2.90055002, 3.02248512, 3.33599134, 3.12065227,\n",
       "       3.20440622, 3.57926542, 2.92204243, 3.57584511, 2.08702414,\n",
       "       3.10106554, 3.02354758, 3.01164966, 3.02681299, 4.05103333,\n",
       "       2.65167907, 2.97089469, 2.97248435, 3.26411452, 2.99326575,\n",
       "       2.94520109, 3.27487398, 2.75849677, 2.8123426 , 3.03062389,\n",
       "       2.76158664, 3.48356513, 2.39907222, 3.45993059, 3.3630006 ,\n",
       "       3.3915307 , 3.3956634 , 2.88667137, 3.10139294, 2.95582695,\n",
       "       3.17421185, 3.48193602, 3.53519685, 2.69298631, 3.11414788,\n",
       "       2.34481931, 3.3605474 , 2.40511134, 2.91367933, 2.94988146,\n",
       "       3.42252792, 2.98529383, 2.91571022, 3.61899464, 3.11235332,\n",
       "       3.481351  , 3.24437877, 3.32526392, 3.7767263 , 3.03728861,\n",
       "       3.10846664, 3.32717916, 2.72120294, 3.07808313, 2.77489378,\n",
       "       3.4024377 , 3.18310754, 2.90517557, 3.38698448, 2.85183111,\n",
       "       2.80425953, 3.15309607, 3.07773499, 2.37527105, 2.68825941,\n",
       "       3.4030091 , 2.29096557, 2.61760958, 2.52280827, 3.61422227,\n",
       "       3.53598077, 3.34528202, 2.9307338 , 3.44674666, 3.31247197,\n",
       "       3.48533878, 2.53368824, 3.20282149, 3.42629543, 2.98337271,\n",
       "       3.33648943, 2.94668103, 2.51549064, 3.0151681 , 3.24674015,\n",
       "       2.77902715, 2.40188471, 3.02343571, 3.10855203, 2.58608464,\n",
       "       3.36594201, 3.01537505, 3.2554832 , 3.99046824, 2.66934145,\n",
       "       3.38001172, 2.91877255, 2.96868812, 3.48656302, 3.11188531,\n",
       "       2.79065181, 2.51734778, 3.18852473, 2.93556419, 2.71260242,\n",
       "       2.98028784, 2.8482242 , 2.88689417, 3.15521116, 2.73025402,\n",
       "       3.05625541, 2.66084947, 3.09238997, 4.20168377, 2.95767032,\n",
       "       2.56714874, 2.89244796, 2.89317001, 2.74915834, 2.86133395,\n",
       "       3.15493923, 2.75216446, 3.2457984 , 3.02391984, 2.73119705,\n",
       "       2.93360931, 2.59315422, 2.59948794, 3.13649025, 3.16340015,\n",
       "       3.39895758, 2.70487266, 2.3285806 , 2.57898152, 2.6893368 ,\n",
       "       3.26157151, 2.89586001, 2.68938865, 2.78675277, 2.60772692,\n",
       "       2.20350754, 2.53240166, 2.65384246, 3.39705515, 3.1666793 ,\n",
       "       2.93871509, 3.09454044, 3.27872926, 2.79969677, 3.23240291,\n",
       "       3.15070845, 2.69148305, 2.84696008, 3.05616271, 3.12877985,\n",
       "       2.8080401 , 2.74123181, 3.50928712, 2.54534991, 3.06218725,\n",
       "       3.16185824, 2.78482987, 2.85524025, 3.12608289, 3.7302537 ,\n",
       "       2.9701685 , 3.09984835, 2.93266564, 3.03462244, 3.03692293,\n",
       "       2.62229712, 3.32076912, 2.6829497 , 2.60632461, 3.53305419])"
      ]
     },
     "execution_count": 11,
     "metadata": {},
     "output_type": "execute_result"
    }
   ],
   "source": [
    "grade_avg.rvs(1000)"
   ]
  },
  {
   "cell_type": "code",
   "execution_count": 12,
   "id": "618080be",
   "metadata": {},
   "outputs": [
    {
     "data": {
      "text/plain": [
       "3.4934560880854417"
      ]
     },
     "execution_count": 12,
     "metadata": {},
     "output_type": "execute_result"
    }
   ],
   "source": [
    "grade_avg.isf(.05)\n",
    "#gpa required for top 5%"
   ]
  },
  {
   "cell_type": "code",
   "execution_count": 13,
   "id": "a3dcf131",
   "metadata": {},
   "outputs": [
    {
     "data": {
      "text/plain": [
       "2.689069983151863"
      ]
     },
     "execution_count": 13,
     "metadata": {},
     "output_type": "execute_result"
    }
   ],
   "source": [
    "grade_avg.ppf(.15)\n",
    "#Bottom 15%"
   ]
  },
  {
   "cell_type": "code",
   "execution_count": 14,
   "id": "c09a7f01",
   "metadata": {},
   "outputs": [
    {
     "data": {
      "text/plain": [
       "array([2.74751363, 2.84267985])"
      ]
     },
     "execution_count": 14,
     "metadata": {},
     "output_type": "execute_result"
    }
   ],
   "source": [
    "grade_avg.ppf([0.2,0.3])\n",
    "#20 -30%\n",
    "# yes 2.8 makes it "
   ]
  },
  {
   "cell_type": "code",
   "execution_count": 15,
   "id": "fd883169",
   "metadata": {
    "scrolled": true
   },
   "outputs": [
    {
     "data": {
      "text/plain": [
       "0.9522096477271853"
      ]
     },
     "execution_count": 15,
     "metadata": {},
     "output_type": "execute_result"
    }
   ],
   "source": [
    "grade_avg.cdf(3.5)\n",
    "#3.5 GPA is what percentile\n",
    "#because 95% are below "
   ]
  },
  {
   "cell_type": "markdown",
   "id": "ea5457d1",
   "metadata": {},
   "source": [
    "3. A marketing website has an average click-through rate of 2%. One day they observe 4326 visitors and 97 click-throughs. How likely is it that this many people or more click through?"
   ]
  },
  {
   "cell_type": "code",
   "execution_count": 16,
   "id": "62800095",
   "metadata": {},
   "outputs": [],
   "source": [
    "# no_trials: 4326 visits\n",
    "# success rate: 2% ==> 0.02\n",
    "trials = 4326\n",
    "click_success = 0.02\n",
    "\n",
    "click_dist = stats.binom(trials, click_success)"
   ]
  },
  {
   "cell_type": "code",
   "execution_count": 17,
   "id": "57fb61fc",
   "metadata": {},
   "outputs": [
    {
     "data": {
      "text/plain": [
       "0.13975823631416448"
      ]
     },
     "execution_count": 17,
     "metadata": {},
     "output_type": "execute_result"
    }
   ],
   "source": [
    "click_dist.sf(96)\n",
    "#How likely is it that 97 people or\n",
    "#more click through?"
   ]
  },
  {
   "cell_type": "markdown",
   "id": "d12c275b",
   "metadata": {},
   "source": [
    "4. You are working on some statistics homework consisting of 100 questions where all of the answers are a probability rounded to the hundreths place. Looking to save time, you put down random probabilities as the answer to each question. What is the probability that at least one of your first 60 answers is correct?\n"
   ]
  },
  {
   "cell_type": "code",
   "execution_count": 18,
   "id": "7f264032",
   "metadata": {},
   "outputs": [
    {
     "data": {
      "text/plain": [
       "0.45284335760923855"
      ]
     },
     "execution_count": 18,
     "metadata": {},
     "output_type": "execute_result"
    }
   ],
   "source": [
    "n = 60\n",
    "p = .01\n",
    "# probability is 1/100, this = p, getting one question right out of 100\n",
    "\n",
    "stats.binom(n,p).sf(0)"
   ]
  },
  {
   "cell_type": "markdown",
   "id": "2dba75ca",
   "metadata": {},
   "source": [
    "5. The codeup staff tends to get upset when the student break area is not cleaned up. Suppose that there's a 3% chance that any one student cleans the break area when they visit it, and, on any given day, about 90% of the 3 active cohorts of 22 students visit the break area. How likely is it that the break area gets cleaned up each day? How likely is it that it goes two days without getting cleaned up? All week?"
   ]
  },
  {
   "cell_type": "code",
   "execution_count": 19,
   "id": "3f33b3a4",
   "metadata": {},
   "outputs": [
    {
     "data": {
      "text/plain": [
       "0.8342199288437352"
      ]
     },
     "execution_count": 19,
     "metadata": {},
     "output_type": "execute_result"
    }
   ],
   "source": [
    "# Binomial Parameters:\n",
    "\n",
    "# trials/number of students that visit/day:66\n",
    "# probability of success: 0.03\n",
    "\n",
    "n = round(.9 * 3 * 22)\n",
    "p = 0.03\n",
    "\n",
    "stats.binom(n,p).sf(0)\n",
    "\n",
    "#x > 0, anyday\n",
    "# n = number of opportunities students have to clean break room. probability * 3 cohorts * 22 visits \n",
    "# .03 probability student cleans break room when visiting"
   ]
  },
  {
   "cell_type": "code",
   "execution_count": 20,
   "id": "6dd9229c",
   "metadata": {},
   "outputs": [
    {
     "data": {
      "text/plain": [
       "0.027483031992576134"
      ]
     },
     "execution_count": 20,
     "metadata": {},
     "output_type": "execute_result"
    }
   ],
   "source": [
    "stats.binom(n*2,p).pmf(0)\n",
    "#two days without being cleaned\n",
    "# n*2 for two days"
   ]
  },
  {
   "cell_type": "code",
   "execution_count": 21,
   "id": "7126047c",
   "metadata": {},
   "outputs": [
    {
     "data": {
      "text/plain": [
       "0.00012521651388091245"
      ]
     },
     "execution_count": 21,
     "metadata": {},
     "output_type": "execute_result"
    }
   ],
   "source": [
    "stats.binom(n*5,p).pmf(0)\n",
    "#all week days without being cleaned\n",
    "# n*5 for two days"
   ]
  },
  {
   "cell_type": "markdown",
   "id": "9841b580",
   "metadata": {},
   "source": [
    "6. You want to get lunch at La Panaderia, but notice that the line is usually very long at lunchtime. After several weeks of careful observation, you notice that the average number of people in line when your lunch break starts is normally distributed with a mean of 15 and standard deviation of 3. If it takes 2 minutes for each person to order, and 10 minutes from ordering to getting your food, what is the likelihood that you have at least 15 minutes left to eat your food before you have to go back to class? Assume you have one hour for lunch, and ignore travel time to and from La Panaderia."
   ]
  },
  {
   "cell_type": "code",
   "execution_count": 22,
   "id": "f0c9698d",
   "metadata": {},
   "outputs": [
    {
     "data": {
      "text/plain": [
       "0.6914624612740131"
      ]
     },
     "execution_count": 22,
     "metadata": {},
     "output_type": "execute_result"
    }
   ],
   "source": [
    "# What kind of distribution is this?\n",
    "mean = 15 * 2\n",
    "#solving using minutes per person, 2 minutes per person * mean of 15 \n",
    "std_dev = 3 * 2 \n",
    "#2 minutes per person per order * 3 std dev\n",
    "# 60-15-10-2 = 33 mins, how long it takes me to get my food\n",
    "stats.norm(mean, std_dev).cdf(33)\n",
    "\n",
    "#how likely is it that you already have 15 minutes "
   ]
  },
  {
   "cell_type": "markdown",
   "id": "df3e7d79",
   "metadata": {},
   "source": [
    "7. Connect to the employees database and find the average salary of current employees, along with the standard deviation. For the following questions, calculate the answer based on modeling the employees salaries with a normal distribution defined by the calculated mean and standard deviation then compare this answer to the actual values present in the salaries dataset.\n",
    "\n",
    "What percent of employees earn less than 60,000?\n",
    "What percent of employees earn more than 95,000?\n",
    "What percent of employees earn between 65,000 and 80,000?\n",
    "What do the top 5% of employees make?"
   ]
  },
  {
   "cell_type": "code",
   "execution_count": 23,
   "id": "43812d25",
   "metadata": {},
   "outputs": [],
   "source": [
    "from get_db_url import make_db\n",
    "\n",
    "    \n",
    "salaries = make_db('employees','SELECT * FROM salaries s WHERE s.to_date > NOW()')\n"
   ]
  },
  {
   "cell_type": "code",
   "execution_count": 24,
   "id": "2e82a134",
   "metadata": {},
   "outputs": [
    {
     "data": {
      "text/html": [
       "<div>\n",
       "<style scoped>\n",
       "    .dataframe tbody tr th:only-of-type {\n",
       "        vertical-align: middle;\n",
       "    }\n",
       "\n",
       "    .dataframe tbody tr th {\n",
       "        vertical-align: top;\n",
       "    }\n",
       "\n",
       "    .dataframe thead th {\n",
       "        text-align: right;\n",
       "    }\n",
       "</style>\n",
       "<table border=\"1\" class=\"dataframe\">\n",
       "  <thead>\n",
       "    <tr style=\"text-align: right;\">\n",
       "      <th></th>\n",
       "      <th>emp_no</th>\n",
       "      <th>salary</th>\n",
       "      <th>from_date</th>\n",
       "      <th>to_date</th>\n",
       "    </tr>\n",
       "  </thead>\n",
       "  <tbody>\n",
       "    <tr>\n",
       "      <th>0</th>\n",
       "      <td>10001</td>\n",
       "      <td>88958</td>\n",
       "      <td>2002-06-22</td>\n",
       "      <td>9999-01-01</td>\n",
       "    </tr>\n",
       "    <tr>\n",
       "      <th>1</th>\n",
       "      <td>10002</td>\n",
       "      <td>72527</td>\n",
       "      <td>2001-08-02</td>\n",
       "      <td>9999-01-01</td>\n",
       "    </tr>\n",
       "    <tr>\n",
       "      <th>2</th>\n",
       "      <td>10003</td>\n",
       "      <td>43311</td>\n",
       "      <td>2001-12-01</td>\n",
       "      <td>9999-01-01</td>\n",
       "    </tr>\n",
       "    <tr>\n",
       "      <th>3</th>\n",
       "      <td>10004</td>\n",
       "      <td>74057</td>\n",
       "      <td>2001-11-27</td>\n",
       "      <td>9999-01-01</td>\n",
       "    </tr>\n",
       "    <tr>\n",
       "      <th>4</th>\n",
       "      <td>10005</td>\n",
       "      <td>94692</td>\n",
       "      <td>2001-09-09</td>\n",
       "      <td>9999-01-01</td>\n",
       "    </tr>\n",
       "    <tr>\n",
       "      <th>...</th>\n",
       "      <td>...</td>\n",
       "      <td>...</td>\n",
       "      <td>...</td>\n",
       "      <td>...</td>\n",
       "    </tr>\n",
       "    <tr>\n",
       "      <th>240119</th>\n",
       "      <td>499995</td>\n",
       "      <td>52868</td>\n",
       "      <td>2002-06-01</td>\n",
       "      <td>9999-01-01</td>\n",
       "    </tr>\n",
       "    <tr>\n",
       "      <th>240120</th>\n",
       "      <td>499996</td>\n",
       "      <td>69501</td>\n",
       "      <td>2002-05-12</td>\n",
       "      <td>9999-01-01</td>\n",
       "    </tr>\n",
       "    <tr>\n",
       "      <th>240121</th>\n",
       "      <td>499997</td>\n",
       "      <td>83441</td>\n",
       "      <td>2001-08-26</td>\n",
       "      <td>9999-01-01</td>\n",
       "    </tr>\n",
       "    <tr>\n",
       "      <th>240122</th>\n",
       "      <td>499998</td>\n",
       "      <td>55003</td>\n",
       "      <td>2001-12-25</td>\n",
       "      <td>9999-01-01</td>\n",
       "    </tr>\n",
       "    <tr>\n",
       "      <th>240123</th>\n",
       "      <td>499999</td>\n",
       "      <td>77303</td>\n",
       "      <td>2001-11-29</td>\n",
       "      <td>9999-01-01</td>\n",
       "    </tr>\n",
       "  </tbody>\n",
       "</table>\n",
       "<p>240124 rows × 4 columns</p>\n",
       "</div>"
      ],
      "text/plain": [
       "        emp_no  salary   from_date     to_date\n",
       "0        10001   88958  2002-06-22  9999-01-01\n",
       "1        10002   72527  2001-08-02  9999-01-01\n",
       "2        10003   43311  2001-12-01  9999-01-01\n",
       "3        10004   74057  2001-11-27  9999-01-01\n",
       "4        10005   94692  2001-09-09  9999-01-01\n",
       "...        ...     ...         ...         ...\n",
       "240119  499995   52868  2002-06-01  9999-01-01\n",
       "240120  499996   69501  2002-05-12  9999-01-01\n",
       "240121  499997   83441  2001-08-26  9999-01-01\n",
       "240122  499998   55003  2001-12-25  9999-01-01\n",
       "240123  499999   77303  2001-11-29  9999-01-01\n",
       "\n",
       "[240124 rows x 4 columns]"
      ]
     },
     "execution_count": 24,
     "metadata": {},
     "output_type": "execute_result"
    }
   ],
   "source": [
    "salaries"
   ]
  },
  {
   "cell_type": "code",
   "execution_count": 25,
   "id": "6cf4d185",
   "metadata": {},
   "outputs": [
    {
     "data": {
      "text/plain": [
       "(72012.23585730705, 17309.99538025198)"
      ]
     },
     "execution_count": 25,
     "metadata": {},
     "output_type": "execute_result"
    }
   ],
   "source": [
    "mean = salaries.salary.mean()\n",
    "std_dev = salaries.salary.std()\n",
    "(mean, std_dev)"
   ]
  },
  {
   "cell_type": "code",
   "execution_count": 26,
   "id": "4922b107",
   "metadata": {},
   "outputs": [
    {
     "data": {
      "text/plain": [
       "0.24385742480214423"
      ]
     },
     "execution_count": 26,
     "metadata": {},
     "output_type": "execute_result"
    }
   ],
   "source": [
    "stats.norm(mean, std_dev).cdf(60_000)"
   ]
  },
  {
   "cell_type": "code",
   "execution_count": 27,
   "id": "b0150a0c",
   "metadata": {},
   "outputs": [
    {
     "data": {
      "text/plain": [
       "0.09208819199804053"
      ]
     },
     "execution_count": 27,
     "metadata": {},
     "output_type": "execute_result"
    }
   ],
   "source": [
    "stats.norm(mean, std_dev).sf(95_000)"
   ]
  },
  {
   "cell_type": "code",
   "execution_count": 28,
   "id": "5cc65593",
   "metadata": {},
   "outputs": [
    {
     "data": {
      "text/plain": [
       "array([0.33506057])"
      ]
     },
     "execution_count": 28,
     "metadata": {},
     "output_type": "execute_result"
    }
   ],
   "source": [
    "np.diff(stats.norm(mean, std_dev).cdf([65000, 80000]))"
   ]
  },
  {
   "cell_type": "code",
   "execution_count": 29,
   "id": "cef14504",
   "metadata": {},
   "outputs": [
    {
     "data": {
      "text/plain": [
       "100484.64454102777"
      ]
     },
     "execution_count": 29,
     "metadata": {},
     "output_type": "execute_result"
    }
   ],
   "source": [
    "stats.norm(mean, std_dev).isf(.05)"
   ]
  },
  {
   "cell_type": "code",
   "execution_count": 30,
   "id": "283a5ce4",
   "metadata": {},
   "outputs": [
    {
     "data": {
      "text/plain": [
       "104225.84999999998"
      ]
     },
     "execution_count": 30,
     "metadata": {},
     "output_type": "execute_result"
    }
   ],
   "source": [
    "salaries.salary.quantile(.95)"
   ]
  },
  {
   "cell_type": "code",
   "execution_count": 31,
   "id": "f4652aac",
   "metadata": {},
   "outputs": [
    {
     "data": {
      "text/plain": [
       "<AxesSubplot:>"
      ]
     },
     "execution_count": 31,
     "metadata": {},
     "output_type": "execute_result"
    },
    {
     "data": {
      "image/png": "[encoded data removed]",
      "text/plain": [
       "<Figure size 432x288 with 1 Axes>"
      ]
     },
     "metadata": {
      "needs_background": "light"
     },
     "output_type": "display_data"
    }
   ],
   "source": [
    "salaries.salary.hist()\n",
    "pd.Series(stats.norm(mean, std_dev).rvs(240124)).hist(alpha = 0.5)"
   ]
  }
 ],
 "metadata": {
  "kernelspec": {
   "display_name": "Python 3 (ipykernel)",
   "language": "python",
   "name": "python3"
  },
  "language_info": {
   "codemirror_mode": {
    "name": "ipython",
    "version": 3
   },
   "file_extension": ".py",
   "mimetype": "text/x-python",
   "name": "python",
   "nbconvert_exporter": "python",
   "pygments_lexer": "ipython3",
   "version": "3.9.12"
  }
 },
 "nbformat": 4,
 "nbformat_minor": 5
}
